{
 "cells": [
  {
   "cell_type": "markdown",
   "metadata": {
    "toc": true
   },
   "source": [
    "<h1>Table of Contents<span class=\"tocSkip\"></span></h1>\n",
    "<div class=\"toc\"><ul class=\"toc-item\"><li><span><a href=\"#Study-Description\" data-toc-modified-id=\"Study-Description-1\"><span class=\"toc-item-num\">1&nbsp;&nbsp;</span>Study Description</a></span></li><li><span><a href=\"#Librairies\" data-toc-modified-id=\"Librairies-2\"><span class=\"toc-item-num\">2&nbsp;&nbsp;</span>Librairies</a></span></li><li><span><a href=\"#Data-cleaning\" data-toc-modified-id=\"Data-cleaning-3\"><span class=\"toc-item-num\">3&nbsp;&nbsp;</span>Data cleaning</a></span><ul class=\"toc-item\"><li><span><a href=\"#Table-1\" data-toc-modified-id=\"Table-1-3.1\"><span class=\"toc-item-num\">3.1&nbsp;&nbsp;</span>Table 1</a></span></li></ul></li><li><span><a href=\"#Fig---Behavioral-opportunities\" data-toc-modified-id=\"Fig---Behavioral-opportunities-4\"><span class=\"toc-item-num\">4&nbsp;&nbsp;</span>Fig - Behavioral opportunities</a></span></li><li><span><a href=\"#Generating-Table---Occupant-Sample-Characteristics\" data-toc-modified-id=\"Generating-Table---Occupant-Sample-Characteristics-5\"><span class=\"toc-item-num\">5&nbsp;&nbsp;</span>Generating Table - Occupant Sample Characteristics</a></span></li></ul></div>"
   ]
  },
  {
   "cell_type": "markdown",
   "metadata": {
    "heading_collapsed": true
   },
   "source": [
    "# Study Description"
   ]
  },
  {
   "cell_type": "markdown",
   "metadata": {
    "hidden": true
   },
   "source": [
    "45 occupant responses. \n",
    "24 occupants was selected for participation in the full longitudinal study using a non-proportionate quota sampling strategy."
   ]
  },
  {
   "cell_type": "markdown",
   "metadata": {
    "hidden": true
   },
   "source": [
    "TOPICS\n",
    "- energy consumption\n",
    "- Indoor Environmental Quality"
   ]
  },
  {
   "cell_type": "markdown",
   "metadata": {
    "hidden": true
   },
   "source": [
    "LEADING TO SIGNIFICANT ATTENTION IN \n",
    "- building design\n",
    "- operation processes"
   ]
  },
  {
   "cell_type": "markdown",
   "metadata": {
    "hidden": true
   },
   "source": [
    "TARGETS\n",
    "- The general frequency of thermally adaptive behaviors in a field office environment.\n",
    "- Temporal dynamics in thermal comfort and behavior, within a day and across all four seasons.\n",
    "- The relative effectiveness of indoor and outdoor temperature in describing the probability of a given behavioral state."
   ]
  },
  {
   "cell_type": "markdown",
   "metadata": {
    "hidden": true
   },
   "source": [
    "ADDITIONALE TARGETS\n",
    "- Long-term comfort and behavior in an air-conditioned office building located in a dense urban context and subtropical climate with hot, humid summers and cold winters.\n",
    "- Direct consideration of personal thermal acceptability ranges as they relate to inter-individual variation in thermal comfort and behavior.\n",
    "- The sequencing/hierarchy of available behavioral actions.\n",
    "- Social restrictions on behavior and other reasons that occupants may not take available adaptive actions.\n",
    "- Analysis of high-resolution datalogger information on personal fan/heater use as well as on windows."
   ]
  },
  {
   "cell_type": "markdown",
   "metadata": {},
   "source": [
    "# Librairies"
   ]
  },
  {
   "cell_type": "code",
   "execution_count": 1,
   "metadata": {},
   "outputs": [],
   "source": [
    "import pandas as pd\n",
    "import numpy as np\n",
    "import os\n",
    "import matplotlib.pyplot as plt\n",
    "%matplotlib inline\n",
    "import seaborn as sns\n",
    "sns.set()\n",
    "from matplotlib.colors import Normalize\n",
    "import matplotlib.cm as cm"
   ]
  },
  {
   "cell_type": "markdown",
   "metadata": {
    "heading_collapsed": true
   },
   "source": [
    "# Data cleaning"
   ]
  },
  {
   "cell_type": "code",
   "execution_count": 2,
   "metadata": {
    "hidden": true
   },
   "outputs": [],
   "source": [
    "df=pd.read_csv(r'../OccupantBehaviorEnvironmentData/data/Data_ColNamed.csv', sep='/')"
   ]
  },
  {
   "cell_type": "code",
   "execution_count": 3,
   "metadata": {
    "hidden": true
   },
   "outputs": [
    {
     "data": {
      "text/html": [
       "<div>\n",
       "<style scoped>\n",
       "    .dataframe tbody tr th:only-of-type {\n",
       "        vertical-align: middle;\n",
       "    }\n",
       "\n",
       "    .dataframe tbody tr th {\n",
       "        vertical-align: top;\n",
       "    }\n",
       "\n",
       "    .dataframe thead th {\n",
       "        text-align: right;\n",
       "    }\n",
       "</style>\n",
       "<table border=\"1\" class=\"dataframe\">\n",
       "  <thead>\n",
       "    <tr style=\"text-align: right;\">\n",
       "      <th></th>\n",
       "      <th>Unnamed: 0</th>\n",
       "      <th>0_time</th>\n",
       "      <th>0_occupant_nb</th>\n",
       "      <th>0_occupancy_1</th>\n",
       "      <th>0_occupancy_2</th>\n",
       "      <th>0_survey_time</th>\n",
       "      <th>1_in_temp</th>\n",
       "      <th>1_in_hum</th>\n",
       "      <th>1_in_air_vel</th>\n",
       "      <th>1_in_rad_temp</th>\n",
       "      <th>...</th>\n",
       "      <th>4_eff_blinds</th>\n",
       "      <th>4_report_dcmft</th>\n",
       "      <th>5_pt_prod</th>\n",
       "      <th>5_pt_cmft_pleas</th>\n",
       "      <th>5_pt_wish</th>\n",
       "      <th>5_pt_others</th>\n",
       "      <th>5_pt_nrg_eff</th>\n",
       "      <th>5_pt_mgmt</th>\n",
       "      <th>5_pt_typ</th>\n",
       "      <th>6_pmv</th>\n",
       "    </tr>\n",
       "  </thead>\n",
       "  <tbody>\n",
       "    <tr>\n",
       "      <th>0</th>\n",
       "      <td>0</td>\n",
       "      <td>735080.000000</td>\n",
       "      <td>1.0</td>\n",
       "      <td>0.0</td>\n",
       "      <td>0.0</td>\n",
       "      <td>NaN</td>\n",
       "      <td>24.584695</td>\n",
       "      <td>63.517</td>\n",
       "      <td>0.030988</td>\n",
       "      <td>24.584695</td>\n",
       "      <td>...</td>\n",
       "      <td>0.0</td>\n",
       "      <td>NaN</td>\n",
       "      <td>1.0</td>\n",
       "      <td>1.0</td>\n",
       "      <td>2.0</td>\n",
       "      <td>4.0</td>\n",
       "      <td>2.0</td>\n",
       "      <td>2.0</td>\n",
       "      <td>4.0</td>\n",
       "      <td>-0.270899</td>\n",
       "    </tr>\n",
       "    <tr>\n",
       "      <th>1</th>\n",
       "      <td>1</td>\n",
       "      <td>735080.010417</td>\n",
       "      <td>1.0</td>\n",
       "      <td>0.0</td>\n",
       "      <td>0.0</td>\n",
       "      <td>NaN</td>\n",
       "      <td>24.584695</td>\n",
       "      <td>63.704</td>\n",
       "      <td>0.030988</td>\n",
       "      <td>24.584695</td>\n",
       "      <td>...</td>\n",
       "      <td>0.0</td>\n",
       "      <td>NaN</td>\n",
       "      <td>1.0</td>\n",
       "      <td>1.0</td>\n",
       "      <td>2.0</td>\n",
       "      <td>4.0</td>\n",
       "      <td>2.0</td>\n",
       "      <td>2.0</td>\n",
       "      <td>4.0</td>\n",
       "      <td>-0.269505</td>\n",
       "    </tr>\n",
       "    <tr>\n",
       "      <th>2</th>\n",
       "      <td>2</td>\n",
       "      <td>735080.020833</td>\n",
       "      <td>1.0</td>\n",
       "      <td>0.0</td>\n",
       "      <td>0.0</td>\n",
       "      <td>NaN</td>\n",
       "      <td>24.584695</td>\n",
       "      <td>63.856</td>\n",
       "      <td>0.030988</td>\n",
       "      <td>24.584695</td>\n",
       "      <td>...</td>\n",
       "      <td>0.0</td>\n",
       "      <td>NaN</td>\n",
       "      <td>1.0</td>\n",
       "      <td>1.0</td>\n",
       "      <td>2.0</td>\n",
       "      <td>4.0</td>\n",
       "      <td>2.0</td>\n",
       "      <td>2.0</td>\n",
       "      <td>4.0</td>\n",
       "      <td>-0.268373</td>\n",
       "    </tr>\n",
       "    <tr>\n",
       "      <th>3</th>\n",
       "      <td>3</td>\n",
       "      <td>735080.031250</td>\n",
       "      <td>1.0</td>\n",
       "      <td>0.0</td>\n",
       "      <td>0.0</td>\n",
       "      <td>NaN</td>\n",
       "      <td>24.584695</td>\n",
       "      <td>64.039</td>\n",
       "      <td>0.030988</td>\n",
       "      <td>24.584695</td>\n",
       "      <td>...</td>\n",
       "      <td>0.0</td>\n",
       "      <td>NaN</td>\n",
       "      <td>1.0</td>\n",
       "      <td>1.0</td>\n",
       "      <td>2.0</td>\n",
       "      <td>4.0</td>\n",
       "      <td>2.0</td>\n",
       "      <td>2.0</td>\n",
       "      <td>4.0</td>\n",
       "      <td>-0.267009</td>\n",
       "    </tr>\n",
       "    <tr>\n",
       "      <th>4</th>\n",
       "      <td>4</td>\n",
       "      <td>735080.041667</td>\n",
       "      <td>1.0</td>\n",
       "      <td>0.0</td>\n",
       "      <td>0.0</td>\n",
       "      <td>NaN</td>\n",
       "      <td>24.498384</td>\n",
       "      <td>64.282</td>\n",
       "      <td>0.030988</td>\n",
       "      <td>24.498384</td>\n",
       "      <td>...</td>\n",
       "      <td>0.0</td>\n",
       "      <td>NaN</td>\n",
       "      <td>1.0</td>\n",
       "      <td>1.0</td>\n",
       "      <td>2.0</td>\n",
       "      <td>4.0</td>\n",
       "      <td>2.0</td>\n",
       "      <td>2.0</td>\n",
       "      <td>4.0</td>\n",
       "      <td>-0.297025</td>\n",
       "    </tr>\n",
       "  </tbody>\n",
       "</table>\n",
       "<p>5 rows × 119 columns</p>\n",
       "</div>"
      ],
      "text/plain": [
       "   Unnamed: 0         0_time  0_occupant_nb  0_occupancy_1  0_occupancy_2  \\\n",
       "0           0  735080.000000            1.0            0.0            0.0   \n",
       "1           1  735080.010417            1.0            0.0            0.0   \n",
       "2           2  735080.020833            1.0            0.0            0.0   \n",
       "3           3  735080.031250            1.0            0.0            0.0   \n",
       "4           4  735080.041667            1.0            0.0            0.0   \n",
       "\n",
       "   0_survey_time  1_in_temp  1_in_hum  1_in_air_vel  1_in_rad_temp  ...  \\\n",
       "0            NaN  24.584695    63.517      0.030988      24.584695  ...   \n",
       "1            NaN  24.584695    63.704      0.030988      24.584695  ...   \n",
       "2            NaN  24.584695    63.856      0.030988      24.584695  ...   \n",
       "3            NaN  24.584695    64.039      0.030988      24.584695  ...   \n",
       "4            NaN  24.498384    64.282      0.030988      24.498384  ...   \n",
       "\n",
       "   4_eff_blinds  4_report_dcmft  5_pt_prod  5_pt_cmft_pleas  5_pt_wish  \\\n",
       "0           0.0             NaN        1.0              1.0        2.0   \n",
       "1           0.0             NaN        1.0              1.0        2.0   \n",
       "2           0.0             NaN        1.0              1.0        2.0   \n",
       "3           0.0             NaN        1.0              1.0        2.0   \n",
       "4           0.0             NaN        1.0              1.0        2.0   \n",
       "\n",
       "   5_pt_others  5_pt_nrg_eff  5_pt_mgmt  5_pt_typ     6_pmv  \n",
       "0          4.0           2.0        2.0       4.0 -0.270899  \n",
       "1          4.0           2.0        2.0       4.0 -0.269505  \n",
       "2          4.0           2.0        2.0       4.0 -0.268373  \n",
       "3          4.0           2.0        2.0       4.0 -0.267009  \n",
       "4          4.0           2.0        2.0       4.0 -0.297025  \n",
       "\n",
       "[5 rows x 119 columns]"
      ]
     },
     "execution_count": 3,
     "metadata": {},
     "output_type": "execute_result"
    }
   ],
   "source": [
    "df.head()"
   ]
  },
  {
   "cell_type": "raw",
   "metadata": {
    "hidden": true,
    "scrolled": true
   },
   "source": [
    "df.hist(bins = 20, figsize= (50,50));"
   ]
  },
  {
   "cell_type": "code",
   "execution_count": 4,
   "metadata": {
    "hidden": true
   },
   "outputs": [],
   "source": [
    "# Divide the columns based on category\n",
    "# Seperate dependent and independent variables TBC if useful\n",
    "col_general = ['0_time','0_occupant_nb','0_occupancy_1','0_occupancy_2','0_survey_time']\n",
    "\n",
    "col_env = ['1_in_temp','1_in_hum','1_in_air_vel','1_in_rad_temp','1_in_lum','1_in_co2','1_out_temp','1_out_hum','1_out_air_vel']\n",
    "              \n",
    "col_pers_charact = ['2_met_rate_15min','2_met_rate_60min','2_clth_level','2_clth_level_wtchair','2_min_acc_sen','2_med_acc_sen',\n",
    "              '2_max_acc_sen','2_min_acc','2_med_acc','2_max_acc','2_therm_pref','2_gender','2_age','2_off_type','2_floor_nb',\n",
    "              '2_loc_floor','2_min_acc_sen_sum','2_min_acc_sen_win','2_med_acc_sen_sum','2_med_acc_sen_win','2_max_acc_sen_sum',\n",
    "              '2_max_acc_sen_win'] \n",
    "\n",
    "col_conf_prod = ['3_gen_th_cmf','3_th_cmf_mvmt','3_dcmf_head','3_dcmf_chest','3_dcmf_back','3_dcmf_pelvis','3_dcmf_arms',\n",
    "              '3_dcmf_hands','3_dcmf_legs','3_dcmf_feet','3_dcmf_all','3_th_sen','3_th_sen_mvmt','3_rel_busy',\n",
    "              '3_rel_product','3_gen_satisf_wspace','3_gen_satisf_wpriv','3_gen_th_cmft','3_gen_satisf_wcontrol']\n",
    "\n",
    "col_behavior = ['4_fan_heat_class','4_state_fan_heat','4_state_window','4_crt_th_cool_spt','4_base_th_cool_spt',\n",
    "              '4_crt_th_heat_spt','4_base_th_heat_spt','4_clth_change','4_clth_change_up','4_clth_change_down','4_net_clth_change',\n",
    "              '4_drinking','4_pp_cold_drink','4_pp_warm_drink','4_act_window','4_state_window','4_when_act_window','4_act_door',\n",
    "              '4_state_door','4_when_act_door','4_act_blinds','4_state_blinds','4_when_act_blinds','4_act_lc_fan','4_state_lc_fan',\n",
    "              '4_when_act_lc_fan','4_act_lc_heater','4_state_lc_heater','4_when_act_lc_heater','4_act_thermostat','4_state_thermostat',\n",
    "              '4_when_act_thermostat','4_rsn_no_window','4_rsn_no_door','4_rsn_no_blinds','4_rsn_no_lc_fan','4_rsn_no_lc_heater',\n",
    "              '4_rsn_no_thermostat','4_avail_clth','4_avail_drinks','4_avail_lc_heater','4_avail_lc_fan','4_avail_thermostat',\n",
    "              '4_avail_window','4_avail_door','4_avail_blinds','4_eff_clth','4_eff_drinks','4_eff_lc_heater','4_eff_lc_fan',\n",
    "              '4_eff_thermostat','4_eff_window','4_eff_door','4_eff_blinds','4_report_dcmft']\n",
    "\n",
    "col_personal_values = ['5_pt_prod','5_pt_cmft_pleas','5_pt_wish','5_pt_others','5_pt_nrg_eff','5_pt_mgmt','5_pt_typ','6_pmv']\n",
    "\n",
    "#col_target = []"
   ]
  },
  {
   "cell_type": "code",
   "execution_count": 5,
   "metadata": {
    "hidden": true
   },
   "outputs": [
    {
     "name": "stdout",
     "output_type": "stream",
     "text": [
      "Top Absolute Correlations\n",
      "4_state_window.1       4_when_act_thermostat    1.000000\n",
      "4_state_lc_fan         4_when_act_thermostat    1.000000\n",
      "4_state_window.1       4_state_thermostat       1.000000\n",
      "4_fan_heat_class       4_state_door             1.000000\n",
      "4_when_act_lc_fan      4_when_act_thermostat    1.000000\n",
      "                       4_state_thermostat       1.000000\n",
      "4_when_act_window      4_when_act_door          1.000000\n",
      "                       4_when_act_blinds        1.000000\n",
      "                       4_state_thermostat       1.000000\n",
      "                       4_when_act_thermostat    1.000000\n",
      "4_pp_warm_drink        4_when_act_lc_heater     1.000000\n",
      "4_state_door           4_state_thermostat       1.000000\n",
      "4_state_window.1       4_when_act_blinds        1.000000\n",
      "4_state_lc_fan         4_state_thermostat       1.000000\n",
      "4_pp_warm_drink        4_state_lc_heater        1.000000\n",
      "4_when_act_door        4_when_act_blinds        1.000000\n",
      "4_state_window.1       4_when_act_door          1.000000\n",
      "2_clth_level           2_clth_level_wtchair     1.000000\n",
      "4_clth_change_up       4_clth_change_down       0.999884\n",
      "4_clth_change          4_clth_change_up         0.999181\n",
      "                       4_clth_change_down       0.999169\n",
      "Unnamed: 0             0_occupant_nb            0.999132\n",
      "2_med_acc_sen          2_max_acc_sen            0.996453\n",
      "1_in_temp              1_in_rad_temp            0.993478\n",
      "4_fan_heat_class       4_eff_lc_heater          0.981622\n",
      "4_when_act_thermostat  4_eff_window             0.934262\n",
      "5_pt_prod              5_pt_cmft_pleas          0.922938\n",
      "4_when_act_lc_heater   4_rsn_no_blinds          0.917507\n",
      "2_gender               4_when_act_thermostat    0.912871\n",
      "4_act_thermostat       4_when_act_thermostat    0.912871\n",
      "4_state_thermostat     4_when_act_thermostat    0.912871\n",
      "3_gen_th_cmf           4_when_act_thermostat    0.912871\n",
      "4_fan_heat_class       4_avail_lc_fan           0.910052\n",
      "2_met_rate_60min       4_when_act_thermostat    0.907686\n",
      "4_fan_heat_class       4_avail_lc_heater        0.906259\n",
      "2_age                  4_when_act_thermostat    0.902281\n",
      "4_avail_thermostat     4_eff_thermostat         0.897721\n",
      "4_act_thermostat       4_state_thermostat       0.891133\n",
      "4_avail_door           4_eff_door               0.888692\n",
      "4_avail_window         4_eff_window             0.876981\n",
      "4_when_act_thermostat  4_rsn_no_blinds          0.870388\n",
      "4_crt_th_heat_spt      4_when_act_thermostat    0.868872\n",
      "4_state_fan_heat       4_when_act_thermostat    0.866025\n",
      "4_fan_heat_class       4_eff_lc_fan             0.864376\n",
      "2_min_acc_sen_win      2_med_acc_sen_win        0.850432\n",
      "2_med_acc_sen_sum      2_max_acc_sen_sum        0.848279\n",
      "4_base_th_cool_spt     4_base_th_heat_spt       0.843049\n",
      "4_avail_lc_heater      4_eff_lc_heater          0.840588\n",
      "2_max_acc_sen          4_when_act_thermostat    0.838525\n",
      "3_th_cmf_mvmt          4_when_act_thermostat    0.838525\n",
      "4_when_act_thermostat  4_avail_window           0.824226\n",
      "2_min_acc_sen          2_min_acc                0.818204\n",
      "4_state_window.1       4_state_lc_fan           0.818182\n",
      "3_gen_satisf_wpriv     4_when_act_thermostat    0.816497\n",
      "2_med_acc_sen          2_therm_pref             0.815545\n",
      "2_min_acc              2_med_acc                0.812141\n",
      "4_pp_warm_drink        4_rsn_no_door            0.807930\n",
      "2_max_acc_sen          4_state_thermostat       0.807207\n",
      "4_state_thermostat     4_rsn_no_door            0.797971\n",
      "4_rsn_no_window        4_rsn_no_blinds          0.796486\n",
      "dtype: float64\n"
     ]
    }
   ],
   "source": [
    "def get_redundant_pairs(df):\n",
    "    '''Get diagonal and lower triangular pairs of correlation matrix'''\n",
    "    pairs_to_drop = set()\n",
    "    cols = df.columns\n",
    "    for i in range(0, df.shape[1]):\n",
    "        for j in range(0, i+1):\n",
    "            pairs_to_drop.add((cols[i], cols[j]))\n",
    "    return pairs_to_drop\n",
    "\n",
    "def get_top_abs_correlations(df, n=5):\n",
    "    au_corr = df.corr().abs().unstack()\n",
    "    labels_to_drop = get_redundant_pairs(df)\n",
    "    au_corr = au_corr.drop(labels=labels_to_drop).sort_values(ascending=False)\n",
    "    return au_corr[0:n]\n",
    "\n",
    "print(\"Top Absolute Correlations\") \n",
    "print(get_top_abs_correlations(df,60))"
   ]
  },
  {
   "cell_type": "raw",
   "metadata": {
    "hidden": true
   },
   "source": [
    "# Checking correlations\n",
    "corr = df.corr().round(1)\n",
    "mask = np.zeros_like(corr)\n",
    "mask[np.triu_indices_from(mask)] = True\n",
    "with sns.axes_style(\"white\"):\n",
    "    fig, ax = plt.subplots(figsize=(50,50))\n",
    "    sns.heatmap(ax=ax, data=corr, mask=mask, annot=True, center=0, vmin=-1, vmax=1, cmap=\"RdBu_r\");\n",
    "    fig.savefig('../OccupantBehaviorEnvironmentData/figures/heatmap.png')"
   ]
  },
  {
   "cell_type": "code",
   "execution_count": 6,
   "metadata": {
    "hidden": true
   },
   "outputs": [
    {
     "data": {
      "text/plain": [
       "0_time                0\n",
       "0_occupant_nb         0\n",
       "0_occupancy_1         0\n",
       "0_occupancy_2         0\n",
       "0_survey_time    838487\n",
       "dtype: int64"
      ]
     },
     "execution_count": 6,
     "metadata": {},
     "output_type": "execute_result"
    }
   ],
   "source": [
    "df[col_general].isna().sum()"
   ]
  },
  {
   "cell_type": "code",
   "execution_count": 7,
   "metadata": {
    "hidden": true
   },
   "outputs": [
    {
     "data": {
      "text/html": [
       "<div>\n",
       "<style scoped>\n",
       "    .dataframe tbody tr th:only-of-type {\n",
       "        vertical-align: middle;\n",
       "    }\n",
       "\n",
       "    .dataframe tbody tr th {\n",
       "        vertical-align: top;\n",
       "    }\n",
       "\n",
       "    .dataframe thead th {\n",
       "        text-align: right;\n",
       "    }\n",
       "</style>\n",
       "<table border=\"1\" class=\"dataframe\">\n",
       "  <thead>\n",
       "    <tr style=\"text-align: right;\">\n",
       "      <th></th>\n",
       "      <th>0_time</th>\n",
       "      <th>0_occupant_nb</th>\n",
       "      <th>0_occupancy_1</th>\n",
       "      <th>0_occupancy_2</th>\n",
       "      <th>0_survey_time</th>\n",
       "    </tr>\n",
       "  </thead>\n",
       "  <tbody>\n",
       "    <tr>\n",
       "      <th>count</th>\n",
       "      <td>840984.000000</td>\n",
       "      <td>840984.000000</td>\n",
       "      <td>840984.000000</td>\n",
       "      <td>840984.000000</td>\n",
       "      <td>2497.000000</td>\n",
       "    </tr>\n",
       "    <tr>\n",
       "      <th>mean</th>\n",
       "      <td>735262.500000</td>\n",
       "      <td>12.500000</td>\n",
       "      <td>0.228208</td>\n",
       "      <td>0.037568</td>\n",
       "      <td>1.971165</td>\n",
       "    </tr>\n",
       "    <tr>\n",
       "      <th>std</th>\n",
       "      <td>105.369493</td>\n",
       "      <td>6.922191</td>\n",
       "      <td>0.419677</td>\n",
       "      <td>0.190149</td>\n",
       "      <td>0.811556</td>\n",
       "    </tr>\n",
       "    <tr>\n",
       "      <th>min</th>\n",
       "      <td>735080.000000</td>\n",
       "      <td>1.000000</td>\n",
       "      <td>0.000000</td>\n",
       "      <td>0.000000</td>\n",
       "      <td>1.000000</td>\n",
       "    </tr>\n",
       "    <tr>\n",
       "      <th>25%</th>\n",
       "      <td>735171.250000</td>\n",
       "      <td>6.750000</td>\n",
       "      <td>0.000000</td>\n",
       "      <td>0.000000</td>\n",
       "      <td>1.000000</td>\n",
       "    </tr>\n",
       "    <tr>\n",
       "      <th>50%</th>\n",
       "      <td>735262.499999</td>\n",
       "      <td>12.500000</td>\n",
       "      <td>0.000000</td>\n",
       "      <td>0.000000</td>\n",
       "      <td>2.000000</td>\n",
       "    </tr>\n",
       "    <tr>\n",
       "      <th>75%</th>\n",
       "      <td>735353.749999</td>\n",
       "      <td>18.250000</td>\n",
       "      <td>0.000000</td>\n",
       "      <td>0.000000</td>\n",
       "      <td>3.000000</td>\n",
       "    </tr>\n",
       "    <tr>\n",
       "      <th>max</th>\n",
       "      <td>735444.999999</td>\n",
       "      <td>24.000000</td>\n",
       "      <td>1.000000</td>\n",
       "      <td>1.000000</td>\n",
       "      <td>3.000000</td>\n",
       "    </tr>\n",
       "  </tbody>\n",
       "</table>\n",
       "</div>"
      ],
      "text/plain": [
       "              0_time  0_occupant_nb  0_occupancy_1  0_occupancy_2  \\\n",
       "count  840984.000000  840984.000000  840984.000000  840984.000000   \n",
       "mean   735262.500000      12.500000       0.228208       0.037568   \n",
       "std       105.369493       6.922191       0.419677       0.190149   \n",
       "min    735080.000000       1.000000       0.000000       0.000000   \n",
       "25%    735171.250000       6.750000       0.000000       0.000000   \n",
       "50%    735262.499999      12.500000       0.000000       0.000000   \n",
       "75%    735353.749999      18.250000       0.000000       0.000000   \n",
       "max    735444.999999      24.000000       1.000000       1.000000   \n",
       "\n",
       "       0_survey_time  \n",
       "count    2497.000000  \n",
       "mean        1.971165  \n",
       "std         0.811556  \n",
       "min         1.000000  \n",
       "25%         1.000000  \n",
       "50%         2.000000  \n",
       "75%         3.000000  \n",
       "max         3.000000  "
      ]
     },
     "execution_count": 7,
     "metadata": {},
     "output_type": "execute_result"
    }
   ],
   "source": [
    "df[col_general].describe()"
   ]
  },
  {
   "cell_type": "code",
   "execution_count": 8,
   "metadata": {
    "hidden": true
   },
   "outputs": [
    {
     "data": {
      "text/plain": [
       "1_in_temp         65526\n",
       "1_in_hum              0\n",
       "1_in_air_vel          0\n",
       "1_in_rad_temp     65526\n",
       "1_in_lum         709696\n",
       "1_in_co2         766391\n",
       "1_out_temp        52634\n",
       "1_out_hum         52634\n",
       "1_out_air_vel     52634\n",
       "dtype: int64"
      ]
     },
     "execution_count": 8,
     "metadata": {},
     "output_type": "execute_result"
    }
   ],
   "source": [
    "df[col_env].isna().sum()"
   ]
  },
  {
   "cell_type": "code",
   "execution_count": 9,
   "metadata": {
    "hidden": true
   },
   "outputs": [
    {
     "data": {
      "text/plain": [
       "2_met_rate_15min             0\n",
       "2_met_rate_60min             0\n",
       "2_clth_level             29952\n",
       "2_clth_level_wtchair     29952\n",
       "2_min_acc_sen                0\n",
       "2_med_acc_sen                0\n",
       "2_max_acc_sen                0\n",
       "2_min_acc                29952\n",
       "2_med_acc                29952\n",
       "2_max_acc                29952\n",
       "2_therm_pref            840418\n",
       "2_gender                 52380\n",
       "2_age                    86036\n",
       "2_off_type               52380\n",
       "2_floor_nb               52380\n",
       "2_loc_floor              52380\n",
       "2_min_acc_sen_sum        52380\n",
       "2_min_acc_sen_win        52380\n",
       "2_med_acc_sen_sum        52380\n",
       "2_med_acc_sen_win        52380\n",
       "2_max_acc_sen_sum        52380\n",
       "2_max_acc_sen_win        52380\n",
       "dtype: int64"
      ]
     },
     "execution_count": 9,
     "metadata": {},
     "output_type": "execute_result"
    }
   ],
   "source": [
    "df[col_pers_charact].isna().sum()"
   ]
  },
  {
   "cell_type": "code",
   "execution_count": 10,
   "metadata": {
    "hidden": true
   },
   "outputs": [
    {
     "data": {
      "text/plain": [
       "3_gen_th_cmf             838488\n",
       "3_th_cmf_mvmt            839074\n",
       "3_dcmf_head              840956\n",
       "3_dcmf_chest             840964\n",
       "3_dcmf_back              840961\n",
       "3_dcmf_pelvis            840984\n",
       "3_dcmf_arms              840963\n",
       "3_dcmf_hands             840963\n",
       "3_dcmf_legs              840977\n",
       "3_dcmf_feet              840966\n",
       "3_dcmf_all               840906\n",
       "3_th_sen                 838487\n",
       "3_th_sen_mvmt            839074\n",
       "3_rel_busy               839593\n",
       "3_rel_product            839709\n",
       "3_gen_satisf_wspace       52380\n",
       "3_gen_satisf_wpriv        52380\n",
       "3_gen_th_cmft             52380\n",
       "3_gen_satisf_wcontrol     52380\n",
       "dtype: int64"
      ]
     },
     "execution_count": 10,
     "metadata": {},
     "output_type": "execute_result"
    }
   ],
   "source": [
    "df[col_conf_prod].isna().sum()"
   ]
  },
  {
   "cell_type": "code",
   "execution_count": 11,
   "metadata": {
    "hidden": true
   },
   "outputs": [
    {
     "data": {
      "text/plain": [
       "4_fan_heat_class         562389\n",
       "4_state_fan_heat         562389\n",
       "4_state_window           571519\n",
       "4_crt_th_cool_spt        133435\n",
       "4_base_th_cool_spt       470611\n",
       "4_crt_th_heat_spt        133440\n",
       "4_base_th_heat_spt       470611\n",
       "4_clth_change            838487\n",
       "4_clth_change_up         838487\n",
       "4_clth_change_down       838487\n",
       "4_net_clth_change        838487\n",
       "4_drinking               838487\n",
       "4_pp_cold_drink          840667\n",
       "4_pp_warm_drink          840785\n",
       "4_act_window             838487\n",
       "4_state_window           571519\n",
       "4_when_act_window        840956\n",
       "4_act_door               838487\n",
       "4_state_door             840911\n",
       "4_when_act_door          840946\n",
       "4_act_blinds             838487\n",
       "4_state_blinds           840954\n",
       "4_when_act_blinds        840966\n",
       "4_act_lc_fan             838487\n",
       "4_state_lc_fan           840851\n",
       "4_when_act_lc_fan        840913\n",
       "4_act_lc_heater          838487\n",
       "4_state_lc_heater        840923\n",
       "4_when_act_lc_heater     840958\n",
       "4_act_thermostat         838487\n",
       "4_state_thermostat       840970\n",
       "4_when_act_thermostat    840979\n",
       "4_rsn_no_window          839123\n",
       "4_rsn_no_door            839688\n",
       "4_rsn_no_blinds          839170\n",
       "4_rsn_no_lc_fan          839903\n",
       "4_rsn_no_lc_heater       839929\n",
       "4_rsn_no_thermostat      839342\n",
       "4_avail_clth              52380\n",
       "4_avail_drinks            52380\n",
       "4_avail_lc_heater         52380\n",
       "4_avail_lc_fan            52380\n",
       "4_avail_thermostat        52380\n",
       "4_avail_window            52380\n",
       "4_avail_door              52380\n",
       "4_avail_blinds            52380\n",
       "4_eff_clth                52380\n",
       "4_eff_drinks              52380\n",
       "4_eff_lc_heater           52380\n",
       "4_eff_lc_fan              52380\n",
       "4_eff_thermostat          52380\n",
       "4_eff_window              52380\n",
       "4_eff_door                52380\n",
       "4_eff_blinds              52380\n",
       "4_report_dcmft           840110\n",
       "dtype: int64"
      ]
     },
     "execution_count": 11,
     "metadata": {},
     "output_type": "execute_result"
    }
   ],
   "source": [
    "df[col_behavior].isna().sum()"
   ]
  },
  {
   "cell_type": "code",
   "execution_count": 12,
   "metadata": {
    "hidden": true
   },
   "outputs": [
    {
     "data": {
      "text/plain": [
       "5_pt_prod          85540\n",
       "5_pt_cmft_pleas    85540\n",
       "5_pt_wish          85540\n",
       "5_pt_others        85540\n",
       "5_pt_nrg_eff       85540\n",
       "5_pt_mgmt          85540\n",
       "5_pt_typ           85540\n",
       "6_pmv              91233\n",
       "dtype: int64"
      ]
     },
     "execution_count": 12,
     "metadata": {},
     "output_type": "execute_result"
    }
   ],
   "source": [
    "df[col_personal_values].isna().sum()"
   ]
  },
  {
   "cell_type": "markdown",
   "metadata": {
    "heading_collapsed": true,
    "hidden": true
   },
   "source": [
    "## Table 1"
   ]
  },
  {
   "cell_type": "code",
   "execution_count": 13,
   "metadata": {
    "hidden": true
   },
   "outputs": [
    {
     "data": {
      "text/plain": [
       "2.0    530732\n",
       "1.0    257872\n",
       "Name: 2_gender, dtype: int64"
      ]
     },
     "execution_count": 13,
     "metadata": {},
     "output_type": "execute_result"
    }
   ],
   "source": [
    "df['2_gender'].value_counts()"
   ]
  },
  {
   "cell_type": "code",
   "execution_count": 14,
   "metadata": {
    "hidden": true
   },
   "outputs": [
    {
     "data": {
      "text/plain": [
       "3.0    334585\n",
       "1.0    197454\n",
       "4.0    131155\n",
       "2.0     93351\n",
       "5.0     32059\n",
       "Name: 2_off_type, dtype: int64"
      ]
     },
     "execution_count": 14,
     "metadata": {},
     "output_type": "execute_result"
    }
   ],
   "source": [
    "df['2_off_type'].value_counts()"
   ]
  },
  {
   "cell_type": "markdown",
   "metadata": {},
   "source": [
    "# Fig - Behavioral opportunities"
   ]
  },
  {
   "cell_type": "code",
   "execution_count": 15,
   "metadata": {},
   "outputs": [
    {
     "name": "stdout",
     "output_type": "stream",
     "text": [
      "4_avail_clth          int32\n",
      "4_avail_drinks        int32\n",
      "4_avail_lc_heater     int32\n",
      "4_avail_lc_fan        int32\n",
      "4_avail_thermostat    int32\n",
      "4_avail_window        int32\n",
      "4_avail_door          int32\n",
      "4_avail_blinds        int32\n",
      "dtype: object\n",
      "Clothing\n",
      "0\n",
      "4    760731\n",
      "2     27873\n",
      "Name: 4_avail_clth, dtype: int64\n",
      "788604\n",
      "Proprotion for 1\n",
      "4    0.96\n",
      "2    0.04\n",
      "Name: 4_avail_clth, dtype: float64\n"
     ]
    }
   ],
   "source": [
    "# Dataframe copy\n",
    "df_beh = df[['4_avail_clth','4_avail_drinks','4_avail_lc_heater','4_avail_lc_fan','4_avail_thermostat','4_avail_window','4_avail_door','4_avail_blinds']]\n",
    "df_beh = df_beh.dropna()\n",
    "df_beh = df_beh.astype(int)\n",
    "print(df_beh.dtypes)\n",
    "\n",
    "# Check\n",
    "print('Clothing')\n",
    "print(df_beh['4_avail_clth'].isna().sum())\n",
    "print(df_beh['4_avail_clth'].value_counts())\n",
    "print(df_beh['4_avail_clth'].value_counts().sum())\n",
    "print('Proprotion for 1')\n",
    "print(round(df_beh['4_avail_clth'].value_counts(normalize=True).mul(1),2))"
   ]
  },
  {
   "cell_type": "code",
   "execution_count": 16,
   "metadata": {},
   "outputs": [],
   "source": [
    "# creating adjusted datframe to generate \n",
    "df_new = pd.concat([df_beh['4_avail_clth'].value_counts(normalize=True).mul(1),\n",
    "                 df_beh['4_avail_drinks'].value_counts(normalize=True).mul(1),\n",
    "                 df_beh['4_avail_lc_heater'].value_counts(normalize=True).mul(1),\n",
    "                 df_beh['4_avail_lc_fan'].value_counts(normalize=True).mul(1),\n",
    "                 df_beh['4_avail_thermostat'].value_counts(normalize=True).mul(1),\n",
    "                 df_beh['4_avail_window'].value_counts(normalize=True).mul(1),\n",
    "                 df_beh['4_avail_door'].value_counts(normalize=True).mul(1),\n",
    "                 df_beh['4_avail_blinds'].value_counts(normalize=True).mul(1)],\n",
    "                axis=1,keys=('Clothing','Drinks','PHeat','PFan','Thermost.','Windows','Doors','Blinds'))\n",
    "\n",
    "dct={0:'Cannot Do This/Don\\'t Know',\n",
    "     1:'Cannot Do This/Don\\'t Know',\n",
    "     2:'Choose Not To Do This',\n",
    "     3:'Do This After Consulting Others',\n",
    "     4:'Do This Whitout Consulting Others'}\n",
    "df_new = df_new.rename(index=dct)\n",
    "df_new['Behavior']=df_new.index\n",
    "\n",
    "df_new = df_new.groupby(['Behavior'], as_index=True).agg('sum').T\n",
    "df_new = df_new[['Do This Whitout Consulting Others','Do This After Consulting Others',\n",
    "                 'Choose Not To Do This','Cannot Do This/Don\\'t Know']]"
   ]
  },
  {
   "cell_type": "code",
   "execution_count": 17,
   "metadata": {
    "scrolled": false
   },
   "outputs": [
    {
     "name": "stderr",
     "output_type": "stream",
     "text": [
      "<ipython-input-17-dd93066e1aa0>:6: MatplotlibDeprecationWarning: Adding an axes using the same arguments as a previous axes currently reuses the earlier instance.  In a future version, a new instance will always be created and returned.  Meanwhile, this warning can be suppressed, and the future behavior ensured, by passing a unique label to each axes instance.\n",
      "  ax = plt.axes()\n"
     ]
    },
    {
     "data": {
      "image/png": "[encoded data removed]",
      "text/plain": [
       "<Figure size 396x576 with 1 Axes>"
      ]
     },
     "metadata": {},
     "output_type": "display_data"
    }
   ],
   "source": [
    "# creates a stacked bar plot\n",
    "df_new.plot(kind='bar', stacked=True, color=['#548b54','#7ccd7c','#90ee90','#eee9e9'], position=0.5, width=0.8, figsize=(5.5,8))\n",
    "\n",
    "plt.title('Behavioral Opportunities', fontsize = 25, fontweight=\"bold\", pad=30)\n",
    "# Setting the background color\n",
    "ax = plt.axes()\n",
    "ax.set_facecolor(\"white\")\n",
    "plt.legend(df_new.columns, loc='upper left', bbox_to_anchor=(1.02, 1.02), fontsize = 12, frameon=True, edgecolor='black')\n",
    "\n",
    "# Manage axis look\n",
    "sns.set(style='ticks')\n",
    "sns.despine(ax=ax, offset=0) # the important part here\n",
    "\n",
    "#Axis settings\n",
    "plt.xticks(fontsize=15, rotation=90, fontweight=\"bold\")\n",
    "plt.ylim(0, 1, 0.2)\n",
    "plt.yticks(fontsize=15, rotation=90, fontweight=\"bold\")\n",
    "plt.ylabel('Fraction Of Responses', fontsize=15,fontweight=\"bold\", labelpad=15)\n",
    "\n",
    "plt.savefig('../OccupantBehaviorEnvironmentData/figures/BehavioralOpportunities.png', bbox_inches = 'tight', dpi=250)"
   ]
  },
  {
   "cell_type": "markdown",
   "metadata": {},
   "source": [
    "# Generating Table - Occupant Sample Characteristics"
   ]
  },
  {
   "cell_type": "markdown",
   "metadata": {},
   "source": [
    "Gender"
   ]
  },
  {
   "cell_type": "code",
   "execution_count": 18,
   "metadata": {},
   "outputs": [
    {
     "data": {
      "text/html": [
       "<div>\n",
       "<style scoped>\n",
       "    .dataframe tbody tr th:only-of-type {\n",
       "        vertical-align: middle;\n",
       "    }\n",
       "\n",
       "    .dataframe tbody tr th {\n",
       "        vertical-align: top;\n",
       "    }\n",
       "\n",
       "    .dataframe thead th {\n",
       "        text-align: right;\n",
       "    }\n",
       "</style>\n",
       "<table border=\"1\" class=\"dataframe\">\n",
       "  <thead>\n",
       "    <tr style=\"text-align: right;\">\n",
       "      <th></th>\n",
       "      <th>Category</th>\n",
       "      <th>N</th>\n",
       "      <th>% of final sample</th>\n",
       "    </tr>\n",
       "  </thead>\n",
       "  <tbody>\n",
       "    <tr>\n",
       "      <th>Gender</th>\n",
       "      <td>Female</td>\n",
       "      <td>16</td>\n",
       "      <td>67</td>\n",
       "    </tr>\n",
       "    <tr>\n",
       "      <th>Gender</th>\n",
       "      <td>Male</td>\n",
       "      <td>8</td>\n",
       "      <td>33</td>\n",
       "    </tr>\n",
       "  </tbody>\n",
       "</table>\n",
       "</div>"
      ],
      "text/plain": [
       "       Category   N  % of final sample\n",
       "Gender   Female  16                 67\n",
       "Gender     Male   8                 33"
      ]
     },
     "execution_count": 18,
     "metadata": {},
     "output_type": "execute_result"
    }
   ],
   "source": [
    "dct_gdr = {1:'Male',2:'Female'}\n",
    "\n",
    "gdr = pd.concat([round(df['2_gender'].value_counts(normalize=True).mul(1)*24,0).astype(int),\n",
    "                round(df['2_gender'].value_counts(normalize=True).mul(100),0).astype(int)],\n",
    "                axis=1,keys=('N','% of final sample'))\n",
    "\n",
    "gdr = gdr.rename(index=dct_gdr)\n",
    "gdr['Category'] = gdr.index\n",
    "gdr=gdr[['Category','N','% of final sample']]\n",
    "#gdr.reset_index(drop=True)\n",
    "gdr = gdr.rename(index={'Female':'Gender','Male':'Gender'})\n",
    "gdr"
   ]
  },
  {
   "cell_type": "markdown",
   "metadata": {},
   "source": [
    "Office Type"
   ]
  },
  {
   "cell_type": "code",
   "execution_count": 19,
   "metadata": {},
   "outputs": [
    {
     "data": {
      "text/html": [
       "<div>\n",
       "<style scoped>\n",
       "    .dataframe tbody tr th:only-of-type {\n",
       "        vertical-align: middle;\n",
       "    }\n",
       "\n",
       "    .dataframe tbody tr th {\n",
       "        vertical-align: top;\n",
       "    }\n",
       "\n",
       "    .dataframe thead th {\n",
       "        text-align: right;\n",
       "    }\n",
       "</style>\n",
       "<table border=\"1\" class=\"dataframe\">\n",
       "  <thead>\n",
       "    <tr style=\"text-align: right;\">\n",
       "      <th></th>\n",
       "      <th>Category</th>\n",
       "      <th>N</th>\n",
       "      <th>% of final sample</th>\n",
       "    </tr>\n",
       "  </thead>\n",
       "  <tbody>\n",
       "    <tr>\n",
       "      <th>Office type</th>\n",
       "      <td>Cubicle</td>\n",
       "      <td>10</td>\n",
       "      <td>42</td>\n",
       "    </tr>\n",
       "    <tr>\n",
       "      <th>Office type</th>\n",
       "      <td>Open Desk</td>\n",
       "      <td>5</td>\n",
       "      <td>21</td>\n",
       "    </tr>\n",
       "    <tr>\n",
       "      <th>Office type</th>\n",
       "      <td>Private</td>\n",
       "      <td>6</td>\n",
       "      <td>25</td>\n",
       "    </tr>\n",
       "    <tr>\n",
       "      <th>Office type</th>\n",
       "      <td>Shared private</td>\n",
       "      <td>3</td>\n",
       "      <td>12</td>\n",
       "    </tr>\n",
       "  </tbody>\n",
       "</table>\n",
       "</div>"
      ],
      "text/plain": [
       "                   Category   N  % of final sample\n",
       "Office type         Cubicle  10                 42\n",
       "Office type       Open Desk   5                 21\n",
       "Office type         Private   6                 25\n",
       "Office type  Shared private   3                 12"
      ]
     },
     "execution_count": 19,
     "metadata": {},
     "output_type": "execute_result"
    }
   ],
   "source": [
    "dct_off = {1:'Private',2:'Shared private',3:'Cubicle',4:'Open Desk',5:'Open Desk'}\n",
    "\n",
    "off = pd.concat([round(df['2_off_type'].value_counts(normalize=True).mul(1)*24,0).astype(int),\n",
    "                round(df['2_off_type'].value_counts(normalize=True).mul(100),0).astype(int)],\n",
    "                axis=1,keys=('N','% of final sample'))\n",
    "\n",
    "off = off.rename(index=dct_off)\n",
    "off['Category'] = off.index\n",
    "off=off[['Category','N','% of final sample']]\n",
    "\n",
    "off = off.groupby(by='Category', as_index=False).sum()\n",
    "off = off.rename(index={0:'Office type',1:'Office type',2:'Office type',3:'Office type'})\n",
    "off"
   ]
  },
  {
   "cell_type": "markdown",
   "metadata": {},
   "source": [
    "Office Location"
   ]
  },
  {
   "cell_type": "code",
   "execution_count": 20,
   "metadata": {},
   "outputs": [
    {
     "data": {
      "text/html": [
       "<div>\n",
       "<style scoped>\n",
       "    .dataframe tbody tr th:only-of-type {\n",
       "        vertical-align: middle;\n",
       "    }\n",
       "\n",
       "    .dataframe tbody tr th {\n",
       "        vertical-align: top;\n",
       "    }\n",
       "\n",
       "    .dataframe thead th {\n",
       "        text-align: right;\n",
       "    }\n",
       "</style>\n",
       "<table border=\"1\" class=\"dataframe\">\n",
       "  <thead>\n",
       "    <tr style=\"text-align: right;\">\n",
       "      <th></th>\n",
       "      <th>Category</th>\n",
       "      <th>N</th>\n",
       "      <th>% of final sample</th>\n",
       "    </tr>\n",
       "  </thead>\n",
       "  <tbody>\n",
       "    <tr>\n",
       "      <th>Office location</th>\n",
       "      <td>Perimeter</td>\n",
       "      <td>15</td>\n",
       "      <td>63</td>\n",
       "    </tr>\n",
       "    <tr>\n",
       "      <th>Office location</th>\n",
       "      <td>Core</td>\n",
       "      <td>9</td>\n",
       "      <td>37</td>\n",
       "    </tr>\n",
       "  </tbody>\n",
       "</table>\n",
       "</div>"
      ],
      "text/plain": [
       "                  Category   N  % of final sample\n",
       "Office location  Perimeter  15                 63\n",
       "Office location       Core   9                 37"
      ]
     },
     "execution_count": 20,
     "metadata": {},
     "output_type": "execute_result"
    }
   ],
   "source": [
    "dct_loc = {1:'Core',2:'Perimeter'}\n",
    "\n",
    "loc = pd.concat([round(df['2_loc_floor'].value_counts(normalize=True).mul(1)*24,0).astype(int),\n",
    "                round(df['2_loc_floor'].value_counts(normalize=True).mul(100),0).astype(int)],\n",
    "                axis=1,keys=('N','% of final sample'))\n",
    "\n",
    "loc = loc.rename(index=dct_loc)\n",
    "loc['Category'] = loc.index\n",
    "loc=loc[['Category','N','% of final sample']]\n",
    "\n",
    "loc = loc.rename(index={'Perimeter':'Office location','Core':'Office location'})\n",
    "loc"
   ]
  },
  {
   "cell_type": "markdown",
   "metadata": {},
   "source": [
    "Available controls"
   ]
  },
  {
   "cell_type": "code",
   "execution_count": 21,
   "metadata": {},
   "outputs": [],
   "source": [
    "\"\"\"\n",
    "0 = Don't Know ; \n",
    "1 = Not Allowed / Possible ; \n",
    "2 = I Can Do This, But Choose Not To; \n",
    "3 = I Do This But Generally Need to Consult Others First ; \n",
    "4 = I Do This Without Consulting Others\n",
    "\"\"\"\n",
    "dcy_ctr = {0:'not used',1:'not used',2:'not used',3:'used',4:'used'}"
   ]
  },
  {
   "cell_type": "code",
   "execution_count": 22,
   "metadata": {},
   "outputs": [
    {
     "data": {
      "text/plain": [
       "2.0    0.414265\n",
       "1.0    0.335386\n",
       "4.0    0.169224\n",
       "0.0    0.081124\n",
       "Name: 4_avail_lc_heater, dtype: float64"
      ]
     },
     "execution_count": 22,
     "metadata": {},
     "output_type": "execute_result"
    }
   ],
   "source": [
    "df['4_avail_lc_heater'].value_counts(normalize=True).mul(1)"
   ]
  },
  {
   "cell_type": "code",
   "execution_count": 23,
   "metadata": {},
   "outputs": [
    {
     "data": {
      "text/plain": [
       "2.0    0.408314\n",
       "1.0    0.252728\n",
       "4.0    0.216768\n",
       "0.0    0.122191\n",
       "Name: 4_avail_lc_fan, dtype: float64"
      ]
     },
     "execution_count": 23,
     "metadata": {},
     "output_type": "execute_result"
    }
   ],
   "source": [
    "df['4_avail_lc_fan'].value_counts(normalize=True).mul(1)"
   ]
  },
  {
   "cell_type": "code",
   "execution_count": 24,
   "metadata": {},
   "outputs": [
    {
     "data": {
      "text/plain": [
       "1.0    0.409047\n",
       "4.0    0.294332\n",
       "3.0    0.124187\n",
       "2.0    0.086339\n",
       "0.0    0.086096\n",
       "Name: 4_avail_thermostat, dtype: float64"
      ]
     },
     "execution_count": 24,
     "metadata": {},
     "output_type": "execute_result"
    }
   ],
   "source": [
    "df['4_avail_thermostat'].value_counts(normalize=True).mul(1)"
   ]
  },
  {
   "cell_type": "code",
   "execution_count": 25,
   "metadata": {},
   "outputs": [
    {
     "data": {
      "text/plain": [
       "4.0    0.335214\n",
       "1.0    0.291921\n",
       "2.0    0.208733\n",
       "3.0    0.164132\n",
       "Name: 4_avail_window, dtype: float64"
      ]
     },
     "execution_count": 25,
     "metadata": {},
     "output_type": "execute_result"
    }
   ],
   "source": [
    "df['4_avail_window'].value_counts(normalize=True).mul(1)"
   ]
  },
  {
   "cell_type": "code",
   "execution_count": 26,
   "metadata": {},
   "outputs": [
    {
     "data": {
      "text/plain": [
       "1.0    0.424095\n",
       "4.0    0.324742\n",
       "2.0    0.128033\n",
       "0.0    0.081048\n",
       "3.0    0.042082\n",
       "Name: 4_avail_door, dtype: float64"
      ]
     },
     "execution_count": 26,
     "metadata": {},
     "output_type": "execute_result"
    }
   ],
   "source": [
    "df['4_avail_door'].value_counts(normalize=True).mul(1)"
   ]
  },
  {
   "cell_type": "code",
   "execution_count": 27,
   "metadata": {},
   "outputs": [
    {
     "data": {
      "text/plain": [
       "4.0    0.577974\n",
       "2.0    0.166217\n",
       "0.0    0.086415\n",
       "3.0    0.084727\n",
       "1.0    0.084667\n",
       "Name: 4_avail_blinds, dtype: float64"
      ]
     },
     "execution_count": 27,
     "metadata": {},
     "output_type": "execute_result"
    }
   ],
   "source": [
    "df['4_avail_blinds'].value_counts(normalize=True).mul(1)"
   ]
  },
  {
   "cell_type": "markdown",
   "metadata": {},
   "source": [
    "Gen. thermal comfort"
   ]
  },
  {
   "cell_type": "code",
   "execution_count": 28,
   "metadata": {},
   "outputs": [
    {
     "data": {
      "text/html": [
       "<div>\n",
       "<style scoped>\n",
       "    .dataframe tbody tr th:only-of-type {\n",
       "        vertical-align: middle;\n",
       "    }\n",
       "\n",
       "    .dataframe tbody tr th {\n",
       "        vertical-align: top;\n",
       "    }\n",
       "\n",
       "    .dataframe thead th {\n",
       "        text-align: right;\n",
       "    }\n",
       "</style>\n",
       "<table border=\"1\" class=\"dataframe\">\n",
       "  <thead>\n",
       "    <tr style=\"text-align: right;\">\n",
       "      <th></th>\n",
       "      <th>Category</th>\n",
       "      <th>N</th>\n",
       "      <th>% of final sample</th>\n",
       "    </tr>\n",
       "  </thead>\n",
       "  <tbody>\n",
       "    <tr>\n",
       "      <th>Gen. thermal comfort</th>\n",
       "      <td>&lt; Comfortable</td>\n",
       "      <td>21</td>\n",
       "      <td>87</td>\n",
       "    </tr>\n",
       "    <tr>\n",
       "      <th>Gen. thermal comfort</th>\n",
       "      <td>≥ Comfortable</td>\n",
       "      <td>3</td>\n",
       "      <td>12</td>\n",
       "    </tr>\n",
       "  </tbody>\n",
       "</table>\n",
       "</div>"
      ],
      "text/plain": [
       "                           Category   N  % of final sample\n",
       "Gen. thermal comfort  < Comfortable  21                 87\n",
       "Gen. thermal comfort  ≥ Comfortable   3                 12"
      ]
     },
     "execution_count": 28,
     "metadata": {},
     "output_type": "execute_result"
    }
   ],
   "source": [
    "#1 = Very UNCOMF. ; 2 = UNCOMF. ; 3 = Somewhat UNCOMF. 4 = Somewhat COMF. ; 5 = COMF. ; 6 = Very COMF.\n",
    "dct_comf = {1:'≥ Comfortable',2:'≥ Comfortable',3:'≥ Comfortable',\n",
    "            4:'< Comfortable',5:'< Comfortable',6:'< Comfortable'}\n",
    "\n",
    "comf = pd.concat([round(df['3_gen_th_cmf'].value_counts(normalize=True).mul(1)*24,0).astype(int),\n",
    "                round(df['3_gen_th_cmf'].value_counts(normalize=True).mul(100),0).astype(int)],\n",
    "                axis=1,keys=('N','% of final sample'))\n",
    "\n",
    "comf = comf.rename(index=dct_comf)\n",
    "comf['Category'] = comf.index\n",
    "comf=comf[['Category','N','% of final sample']]\n",
    "\n",
    "comf = comf.groupby(by='Category', as_index=False).sum()\n",
    "comf = comf.rename(index={0:'Gen. thermal comfort',1:'Gen. thermal comfort'})\n",
    "comf"
   ]
  },
  {
   "cell_type": "markdown",
   "metadata": {},
   "source": [
    "Gen. perceived ctl. satisfaction"
   ]
  },
  {
   "cell_type": "code",
   "execution_count": 29,
   "metadata": {},
   "outputs": [
    {
     "data": {
      "text/html": [
       "<div>\n",
       "<style scoped>\n",
       "    .dataframe tbody tr th:only-of-type {\n",
       "        vertical-align: middle;\n",
       "    }\n",
       "\n",
       "    .dataframe tbody tr th {\n",
       "        vertical-align: top;\n",
       "    }\n",
       "\n",
       "    .dataframe thead th {\n",
       "        text-align: right;\n",
       "    }\n",
       "</style>\n",
       "<table border=\"1\" class=\"dataframe\">\n",
       "  <thead>\n",
       "    <tr style=\"text-align: right;\">\n",
       "      <th></th>\n",
       "      <th>Category</th>\n",
       "      <th>N</th>\n",
       "      <th>% of final sample</th>\n",
       "    </tr>\n",
       "  </thead>\n",
       "  <tbody>\n",
       "    <tr>\n",
       "      <th>Gen. perceived ctl. satisfaction</th>\n",
       "      <td>&lt; Satisfied</td>\n",
       "      <td>6</td>\n",
       "      <td>25</td>\n",
       "    </tr>\n",
       "    <tr>\n",
       "      <th>Gen. perceived ctl. satisfaction</th>\n",
       "      <td>≥ Satisfied</td>\n",
       "      <td>18</td>\n",
       "      <td>76</td>\n",
       "    </tr>\n",
       "  </tbody>\n",
       "</table>\n",
       "</div>"
      ],
      "text/plain": [
       "                                     Category   N  % of final sample\n",
       "Gen. perceived ctl. satisfaction  < Satisfied   6                 25\n",
       "Gen. perceived ctl. satisfaction  ≥ Satisfied  18                 76"
      ]
     },
     "execution_count": 29,
     "metadata": {},
     "output_type": "execute_result"
    }
   ],
   "source": [
    "#1 = Very DISSATISFIED ; 2 = DISSATISFIED ; 3 = Somewhat DISSATISFIED ; 4 = Somewhat SATISFIED ; 5 = SATISFIED ; 6 = Very SATISFIED\n",
    "dct_sat = {1:'≥ Satisfied',2:'≥ Satisfied',3:'≥ Satisfied',\n",
    "           4:'< Satisfied',5:'< Satisfied',6:'< Satisfied'}\n",
    "\n",
    "sat = pd.concat([round(df['3_gen_satisf_wcontrol'].value_counts(normalize=True).mul(1)*24,0).astype(int),\n",
    "                round(df['3_gen_satisf_wcontrol'].value_counts(normalize=True).mul(100),0).astype(int)],\n",
    "                axis=1,keys=('N','% of final sample'))\n",
    "\n",
    "sat = sat.rename(index=dct_sat)\n",
    "sat['Category'] = sat.index\n",
    "sat=sat[['Category','N','% of final sample']]\n",
    "\n",
    "sat = sat.groupby(by='Category', as_index=False).sum()\n",
    "sat = sat.rename(index={0:'Gen. perceived ctl. satisfaction',1:'Gen. perceived ctl. satisfaction'})\n",
    "sat"
   ]
  },
  {
   "cell_type": "markdown",
   "metadata": {},
   "source": [
    "MAIN TABLE CREATION"
   ]
  },
  {
   "cell_type": "code",
   "execution_count": 30,
   "metadata": {},
   "outputs": [],
   "source": [
    "table_1 = pd.concat([gdr,off,loc,comf,sat])"
   ]
  },
  {
   "cell_type": "code",
   "execution_count": 31,
   "metadata": {},
   "outputs": [
    {
     "data": {
      "text/html": [
       "<div>\n",
       "<style scoped>\n",
       "    .dataframe tbody tr th:only-of-type {\n",
       "        vertical-align: middle;\n",
       "    }\n",
       "\n",
       "    .dataframe tbody tr th {\n",
       "        vertical-align: top;\n",
       "    }\n",
       "\n",
       "    .dataframe thead th {\n",
       "        text-align: right;\n",
       "    }\n",
       "</style>\n",
       "<table border=\"1\" class=\"dataframe\">\n",
       "  <thead>\n",
       "    <tr style=\"text-align: right;\">\n",
       "      <th></th>\n",
       "      <th>Category</th>\n",
       "      <th>N</th>\n",
       "      <th>% of final sample</th>\n",
       "    </tr>\n",
       "  </thead>\n",
       "  <tbody>\n",
       "    <tr>\n",
       "      <th>Gender</th>\n",
       "      <td>Female</td>\n",
       "      <td>16</td>\n",
       "      <td>67</td>\n",
       "    </tr>\n",
       "    <tr>\n",
       "      <th>Gender</th>\n",
       "      <td>Male</td>\n",
       "      <td>8</td>\n",
       "      <td>33</td>\n",
       "    </tr>\n",
       "    <tr>\n",
       "      <th>Office type</th>\n",
       "      <td>Cubicle</td>\n",
       "      <td>10</td>\n",
       "      <td>42</td>\n",
       "    </tr>\n",
       "    <tr>\n",
       "      <th>Office type</th>\n",
       "      <td>Open Desk</td>\n",
       "      <td>5</td>\n",
       "      <td>21</td>\n",
       "    </tr>\n",
       "    <tr>\n",
       "      <th>Office type</th>\n",
       "      <td>Private</td>\n",
       "      <td>6</td>\n",
       "      <td>25</td>\n",
       "    </tr>\n",
       "    <tr>\n",
       "      <th>Office type</th>\n",
       "      <td>Shared private</td>\n",
       "      <td>3</td>\n",
       "      <td>12</td>\n",
       "    </tr>\n",
       "    <tr>\n",
       "      <th>Office location</th>\n",
       "      <td>Perimeter</td>\n",
       "      <td>15</td>\n",
       "      <td>63</td>\n",
       "    </tr>\n",
       "    <tr>\n",
       "      <th>Office location</th>\n",
       "      <td>Core</td>\n",
       "      <td>9</td>\n",
       "      <td>37</td>\n",
       "    </tr>\n",
       "    <tr>\n",
       "      <th>Gen. thermal comfort</th>\n",
       "      <td>&lt; Comfortable</td>\n",
       "      <td>21</td>\n",
       "      <td>87</td>\n",
       "    </tr>\n",
       "    <tr>\n",
       "      <th>Gen. thermal comfort</th>\n",
       "      <td>≥ Comfortable</td>\n",
       "      <td>3</td>\n",
       "      <td>12</td>\n",
       "    </tr>\n",
       "    <tr>\n",
       "      <th>Gen. perceived ctl. satisfaction</th>\n",
       "      <td>&lt; Satisfied</td>\n",
       "      <td>6</td>\n",
       "      <td>25</td>\n",
       "    </tr>\n",
       "    <tr>\n",
       "      <th>Gen. perceived ctl. satisfaction</th>\n",
       "      <td>≥ Satisfied</td>\n",
       "      <td>18</td>\n",
       "      <td>76</td>\n",
       "    </tr>\n",
       "  </tbody>\n",
       "</table>\n",
       "</div>"
      ],
      "text/plain": [
       "                                        Category   N  % of final sample\n",
       "Gender                                    Female  16                 67\n",
       "Gender                                      Male   8                 33\n",
       "Office type                              Cubicle  10                 42\n",
       "Office type                            Open Desk   5                 21\n",
       "Office type                              Private   6                 25\n",
       "Office type                       Shared private   3                 12\n",
       "Office location                        Perimeter  15                 63\n",
       "Office location                             Core   9                 37\n",
       "Gen. thermal comfort               < Comfortable  21                 87\n",
       "Gen. thermal comfort               ≥ Comfortable   3                 12\n",
       "Gen. perceived ctl. satisfaction     < Satisfied   6                 25\n",
       "Gen. perceived ctl. satisfaction     ≥ Satisfied  18                 76"
      ]
     },
     "execution_count": 31,
     "metadata": {},
     "output_type": "execute_result"
    }
   ],
   "source": [
    "table_1"
   ]
  },
  {
   "cell_type": "code",
   "execution_count": null,
   "metadata": {},
   "outputs": [],
   "source": []
  },
  {
   "cell_type": "code",
   "execution_count": null,
   "metadata": {},
   "outputs": [],
   "source": []
  },
  {
   "cell_type": "code",
   "execution_count": null,
   "metadata": {},
   "outputs": [],
   "source": []
  }
 ],
 "metadata": {
  "kernelspec": {
   "display_name": "Python 3",
   "language": "python",
   "name": "python3"
  },
  "language_info": {
   "codemirror_mode": {
    "name": "ipython",
    "version": 3
   },
   "file_extension": ".py",
   "mimetype": "text/x-python",
   "name": "python",
   "nbconvert_exporter": "python",
   "pygments_lexer": "ipython3",
   "version": "3.8.3"
  },
  "toc": {
   "base_numbering": 1,
   "nav_menu": {},
   "number_sections": true,
   "sideBar": false,
   "skip_h1_title": false,
   "title_cell": "Table of Contents",
   "title_sidebar": "Contents",
   "toc_cell": true,
   "toc_position": {},
   "toc_section_display": true,
   "toc_window_display": false
  }
 },
 "nbformat": 4,
 "nbformat_minor": 4
}
