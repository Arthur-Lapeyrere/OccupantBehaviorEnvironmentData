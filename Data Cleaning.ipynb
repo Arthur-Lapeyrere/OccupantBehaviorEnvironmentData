{
 "cells": [
  {
   "cell_type": "markdown",
   "metadata": {
    "toc": true
   },
   "source": [
    "<h1>Table of Contents<span class=\"tocSkip\"></span></h1>\n",
    "<div class=\"toc\"><ul class=\"toc-item\"><li><span><a href=\"#Study-Description\" data-toc-modified-id=\"Study-Description-1\"><span class=\"toc-item-num\">1&nbsp;&nbsp;</span>Study Description</a></span></li><li><span><a href=\"#Librairies\" data-toc-modified-id=\"Librairies-2\"><span class=\"toc-item-num\">2&nbsp;&nbsp;</span>Librairies</a></span></li><li><span><a href=\"#Data-cleaning\" data-toc-modified-id=\"Data-cleaning-3\"><span class=\"toc-item-num\">3&nbsp;&nbsp;</span>Data cleaning</a></span></li><li><span><a href=\"#Table-1\" data-toc-modified-id=\"Table-1-4\"><span class=\"toc-item-num\">4&nbsp;&nbsp;</span>Table 1</a></span></li><li><span><a href=\"#Fig---Behavioral-opportunities\" data-toc-modified-id=\"Fig---Behavioral-opportunities-5\"><span class=\"toc-item-num\">5&nbsp;&nbsp;</span>Fig - Behavioral opportunities</a></span></li><li><span><a href=\"#Fig---Survey-Time-of-First-Reported-Action\" data-toc-modified-id=\"Fig---Survey-Time-of-First-Reported-Action-6\"><span class=\"toc-item-num\">6&nbsp;&nbsp;</span>Fig - Survey Time of First Reported Action</a></span></li><li><span><a href=\"#Fig---Upward-Clo-Adjust-by-Time-of-Day\" data-toc-modified-id=\"Fig---Upward-Clo-Adjust-by-Time-of-Day-7\"><span class=\"toc-item-num\">7&nbsp;&nbsp;</span>Fig - Upward Clo Adjust by Time of Day</a></span></li><li><span><a href=\"#Fig---Downward-Clo-Adjust-by-Time-of-Day\" data-toc-modified-id=\"Fig---Downward-Clo-Adjust-by-Time-of-Day-8\"><span class=\"toc-item-num\">8&nbsp;&nbsp;</span>Fig - Downward Clo Adjust by Time of Day</a></span></li><li><span><a href=\"#Generating-Table---Occupant-Sample-Characteristics\" data-toc-modified-id=\"Generating-Table---Occupant-Sample-Characteristics-9\"><span class=\"toc-item-num\">9&nbsp;&nbsp;</span>Generating Table - Occupant Sample Characteristics</a></span></li><li><span><a href=\"#Fig.-Preferres-temperature-sensations\" data-toc-modified-id=\"Fig.-Preferres-temperature-sensations-10\"><span class=\"toc-item-num\">10&nbsp;&nbsp;</span>Fig. Preferres temperature sensations</a></span></li></ul></div>"
   ]
  },
  {
   "cell_type": "markdown",
   "metadata": {
    "heading_collapsed": true
   },
   "source": [
    "# Study Description"
   ]
  },
  {
   "cell_type": "markdown",
   "metadata": {
    "hidden": true
   },
   "source": [
    "45 occupant responses. \n",
    "24 occupants was selected for participation in the full longitudinal study using a non-proportionate quota sampling strategy."
   ]
  },
  {
   "cell_type": "markdown",
   "metadata": {
    "hidden": true
   },
   "source": [
    "TOPICS\n",
    "- energy consumption\n",
    "- Indoor Environmental Quality"
   ]
  },
  {
   "cell_type": "markdown",
   "metadata": {
    "hidden": true
   },
   "source": [
    "LEADING TO SIGNIFICANT ATTENTION IN \n",
    "- building design\n",
    "- operation processes"
   ]
  },
  {
   "cell_type": "markdown",
   "metadata": {
    "hidden": true
   },
   "source": [
    "TARGETS\n",
    "- The general frequency of thermally adaptive behaviors in a field office environment.\n",
    "- Temporal dynamics in thermal comfort and behavior, within a day and across all four seasons.\n",
    "- The relative effectiveness of indoor and outdoor temperature in describing the probability of a given behavioral state."
   ]
  },
  {
   "cell_type": "markdown",
   "metadata": {
    "hidden": true
   },
   "source": [
    "ADDITIONALE TARGETS\n",
    "- Long-term comfort and behavior in an air-conditioned office building located in a dense urban context and subtropical climate with hot, humid summers and cold winters.\n",
    "- Direct consideration of personal thermal acceptability ranges as they relate to inter-individual variation in thermal comfort and behavior.\n",
    "- The sequencing/hierarchy of available behavioral actions.\n",
    "- Social restrictions on behavior and other reasons that occupants may not take available adaptive actions.\n",
    "- Analysis of high-resolution datalogger information on personal fan/heater use as well as on windows."
   ]
  },
  {
   "cell_type": "markdown",
   "metadata": {
    "heading_collapsed": true
   },
   "source": [
    "# Librairies"
   ]
  },
  {
   "cell_type": "raw",
   "metadata": {
    "hidden": true
   },
   "source": [
    "pip install datestr"
   ]
  },
  {
   "cell_type": "code",
   "execution_count": 315,
   "metadata": {
    "hidden": true
   },
   "outputs": [],
   "source": [
    "import pandas as pd\n",
    "import numpy as np\n",
    "import os\n",
    "import matplotlib.pyplot as plt\n",
    "%matplotlib inline\n",
    "import seaborn as sns\n",
    "sns.set()\n",
    "from matplotlib.colors import Normalize\n",
    "import matplotlib.cm as cm\n",
    "import datestr\n",
    "import datetime"
   ]
  },
  {
   "cell_type": "markdown",
   "metadata": {},
   "source": [
    "# Data cleaning"
   ]
  },
  {
   "cell_type": "code",
   "execution_count": 316,
   "metadata": {},
   "outputs": [],
   "source": [
    "df=pd.read_csv(r'../OccupantBehaviorEnvironmentData/data/Data_ColNamed.csv', sep='/')"
   ]
  },
  {
   "cell_type": "code",
   "execution_count": 317,
   "metadata": {},
   "outputs": [
    {
     "data": {
      "text/html": [
       "<div>\n",
       "<style scoped>\n",
       "    .dataframe tbody tr th:only-of-type {\n",
       "        vertical-align: middle;\n",
       "    }\n",
       "\n",
       "    .dataframe tbody tr th {\n",
       "        vertical-align: top;\n",
       "    }\n",
       "\n",
       "    .dataframe thead th {\n",
       "        text-align: right;\n",
       "    }\n",
       "</style>\n",
       "<table border=\"1\" class=\"dataframe\">\n",
       "  <thead>\n",
       "    <tr style=\"text-align: right;\">\n",
       "      <th></th>\n",
       "      <th>Unnamed: 0</th>\n",
       "      <th>0_time</th>\n",
       "      <th>0_occupant_nb</th>\n",
       "      <th>0_occupancy_1</th>\n",
       "      <th>0_occupancy_2</th>\n",
       "      <th>0_survey_time</th>\n",
       "      <th>1_in_temp</th>\n",
       "      <th>1_in_hum</th>\n",
       "      <th>1_in_air_vel</th>\n",
       "      <th>1_in_rad_temp</th>\n",
       "      <th>...</th>\n",
       "      <th>4_eff_blinds</th>\n",
       "      <th>4_report_dcmft</th>\n",
       "      <th>5_pt_prod</th>\n",
       "      <th>5_pt_cmft_pleas</th>\n",
       "      <th>5_pt_wish</th>\n",
       "      <th>5_pt_others</th>\n",
       "      <th>5_pt_nrg_eff</th>\n",
       "      <th>5_pt_mgmt</th>\n",
       "      <th>5_pt_typ</th>\n",
       "      <th>6_pmv</th>\n",
       "    </tr>\n",
       "  </thead>\n",
       "  <tbody>\n",
       "    <tr>\n",
       "      <th>0</th>\n",
       "      <td>0</td>\n",
       "      <td>735080.000000</td>\n",
       "      <td>1.0</td>\n",
       "      <td>0.0</td>\n",
       "      <td>0.0</td>\n",
       "      <td>NaN</td>\n",
       "      <td>24.584695</td>\n",
       "      <td>63.517</td>\n",
       "      <td>0.030988</td>\n",
       "      <td>24.584695</td>\n",
       "      <td>...</td>\n",
       "      <td>0.0</td>\n",
       "      <td>NaN</td>\n",
       "      <td>1.0</td>\n",
       "      <td>1.0</td>\n",
       "      <td>2.0</td>\n",
       "      <td>4.0</td>\n",
       "      <td>2.0</td>\n",
       "      <td>2.0</td>\n",
       "      <td>4.0</td>\n",
       "      <td>-0.270899</td>\n",
       "    </tr>\n",
       "    <tr>\n",
       "      <th>1</th>\n",
       "      <td>1</td>\n",
       "      <td>735080.010417</td>\n",
       "      <td>1.0</td>\n",
       "      <td>0.0</td>\n",
       "      <td>0.0</td>\n",
       "      <td>NaN</td>\n",
       "      <td>24.584695</td>\n",
       "      <td>63.704</td>\n",
       "      <td>0.030988</td>\n",
       "      <td>24.584695</td>\n",
       "      <td>...</td>\n",
       "      <td>0.0</td>\n",
       "      <td>NaN</td>\n",
       "      <td>1.0</td>\n",
       "      <td>1.0</td>\n",
       "      <td>2.0</td>\n",
       "      <td>4.0</td>\n",
       "      <td>2.0</td>\n",
       "      <td>2.0</td>\n",
       "      <td>4.0</td>\n",
       "      <td>-0.269505</td>\n",
       "    </tr>\n",
       "    <tr>\n",
       "      <th>2</th>\n",
       "      <td>2</td>\n",
       "      <td>735080.020833</td>\n",
       "      <td>1.0</td>\n",
       "      <td>0.0</td>\n",
       "      <td>0.0</td>\n",
       "      <td>NaN</td>\n",
       "      <td>24.584695</td>\n",
       "      <td>63.856</td>\n",
       "      <td>0.030988</td>\n",
       "      <td>24.584695</td>\n",
       "      <td>...</td>\n",
       "      <td>0.0</td>\n",
       "      <td>NaN</td>\n",
       "      <td>1.0</td>\n",
       "      <td>1.0</td>\n",
       "      <td>2.0</td>\n",
       "      <td>4.0</td>\n",
       "      <td>2.0</td>\n",
       "      <td>2.0</td>\n",
       "      <td>4.0</td>\n",
       "      <td>-0.268373</td>\n",
       "    </tr>\n",
       "    <tr>\n",
       "      <th>3</th>\n",
       "      <td>3</td>\n",
       "      <td>735080.031250</td>\n",
       "      <td>1.0</td>\n",
       "      <td>0.0</td>\n",
       "      <td>0.0</td>\n",
       "      <td>NaN</td>\n",
       "      <td>24.584695</td>\n",
       "      <td>64.039</td>\n",
       "      <td>0.030988</td>\n",
       "      <td>24.584695</td>\n",
       "      <td>...</td>\n",
       "      <td>0.0</td>\n",
       "      <td>NaN</td>\n",
       "      <td>1.0</td>\n",
       "      <td>1.0</td>\n",
       "      <td>2.0</td>\n",
       "      <td>4.0</td>\n",
       "      <td>2.0</td>\n",
       "      <td>2.0</td>\n",
       "      <td>4.0</td>\n",
       "      <td>-0.267009</td>\n",
       "    </tr>\n",
       "    <tr>\n",
       "      <th>4</th>\n",
       "      <td>4</td>\n",
       "      <td>735080.041667</td>\n",
       "      <td>1.0</td>\n",
       "      <td>0.0</td>\n",
       "      <td>0.0</td>\n",
       "      <td>NaN</td>\n",
       "      <td>24.498384</td>\n",
       "      <td>64.282</td>\n",
       "      <td>0.030988</td>\n",
       "      <td>24.498384</td>\n",
       "      <td>...</td>\n",
       "      <td>0.0</td>\n",
       "      <td>NaN</td>\n",
       "      <td>1.0</td>\n",
       "      <td>1.0</td>\n",
       "      <td>2.0</td>\n",
       "      <td>4.0</td>\n",
       "      <td>2.0</td>\n",
       "      <td>2.0</td>\n",
       "      <td>4.0</td>\n",
       "      <td>-0.297025</td>\n",
       "    </tr>\n",
       "  </tbody>\n",
       "</table>\n",
       "<p>5 rows × 119 columns</p>\n",
       "</div>"
      ],
      "text/plain": [
       "   Unnamed: 0         0_time  0_occupant_nb  0_occupancy_1  0_occupancy_2  \\\n",
       "0           0  735080.000000            1.0            0.0            0.0   \n",
       "1           1  735080.010417            1.0            0.0            0.0   \n",
       "2           2  735080.020833            1.0            0.0            0.0   \n",
       "3           3  735080.031250            1.0            0.0            0.0   \n",
       "4           4  735080.041667            1.0            0.0            0.0   \n",
       "\n",
       "   0_survey_time  1_in_temp  1_in_hum  1_in_air_vel  1_in_rad_temp  ...  \\\n",
       "0            NaN  24.584695    63.517      0.030988      24.584695  ...   \n",
       "1            NaN  24.584695    63.704      0.030988      24.584695  ...   \n",
       "2            NaN  24.584695    63.856      0.030988      24.584695  ...   \n",
       "3            NaN  24.584695    64.039      0.030988      24.584695  ...   \n",
       "4            NaN  24.498384    64.282      0.030988      24.498384  ...   \n",
       "\n",
       "   4_eff_blinds  4_report_dcmft  5_pt_prod  5_pt_cmft_pleas  5_pt_wish  \\\n",
       "0           0.0             NaN        1.0              1.0        2.0   \n",
       "1           0.0             NaN        1.0              1.0        2.0   \n",
       "2           0.0             NaN        1.0              1.0        2.0   \n",
       "3           0.0             NaN        1.0              1.0        2.0   \n",
       "4           0.0             NaN        1.0              1.0        2.0   \n",
       "\n",
       "   5_pt_others  5_pt_nrg_eff  5_pt_mgmt  5_pt_typ     6_pmv  \n",
       "0          4.0           2.0        2.0       4.0 -0.270899  \n",
       "1          4.0           2.0        2.0       4.0 -0.269505  \n",
       "2          4.0           2.0        2.0       4.0 -0.268373  \n",
       "3          4.0           2.0        2.0       4.0 -0.267009  \n",
       "4          4.0           2.0        2.0       4.0 -0.297025  \n",
       "\n",
       "[5 rows x 119 columns]"
      ]
     },
     "execution_count": 317,
     "metadata": {},
     "output_type": "execute_result"
    }
   ],
   "source": [
    "df.head()"
   ]
  },
  {
   "cell_type": "raw",
   "metadata": {
    "scrolled": true
   },
   "source": [
    "df.hist(bins = 20, figsize= (50,50));"
   ]
  },
  {
   "cell_type": "code",
   "execution_count": 318,
   "metadata": {},
   "outputs": [],
   "source": [
    "# Divide the columns based on category\n",
    "# Seperate dependent and independent variables TBC if useful\n",
    "col_general = ['0_time','0_occupant_nb','0_occupancy_1','0_occupancy_2','0_survey_time']\n",
    "\n",
    "col_env = ['1_in_temp','1_in_hum','1_in_air_vel','1_in_rad_temp','1_in_lum','1_in_co2','1_out_temp','1_out_hum','1_out_air_vel']\n",
    "              \n",
    "col_pers_charact = ['2_met_rate_15min','2_met_rate_60min','2_clth_level','2_clth_level_wtchair','2_min_acc_sen','2_med_acc_sen',\n",
    "              '2_max_acc_sen','2_min_acc','2_med_acc','2_max_acc','2_therm_pref','2_gender','2_age','2_off_type','2_floor_nb',\n",
    "              '2_loc_floor','2_min_acc_sen_sum','2_min_acc_sen_win','2_med_acc_sen_sum','2_med_acc_sen_win','2_max_acc_sen_sum',\n",
    "              '2_max_acc_sen_win'] \n",
    "\n",
    "col_conf_prod = ['3_gen_th_cmf','3_th_cmf_mvmt','3_dcmf_head','3_dcmf_chest','3_dcmf_back','3_dcmf_pelvis','3_dcmf_arms',\n",
    "              '3_dcmf_hands','3_dcmf_legs','3_dcmf_feet','3_dcmf_all','3_th_sen','3_th_sen_mvmt','3_rel_busy',\n",
    "              '3_rel_product','3_gen_satisf_wspace','3_gen_satisf_wpriv','3_gen_th_cmft','3_gen_satisf_wcontrol']\n",
    "\n",
    "col_behavior = ['4_fan_heat_class','4_state_fan_heat','4_state_window','4_crt_th_cool_spt','4_base_th_cool_spt',\n",
    "              '4_crt_th_heat_spt','4_base_th_heat_spt','4_clth_change','4_clth_change_up','4_clth_change_down','4_net_clth_change',\n",
    "              '4_drinking','4_pp_cold_drink','4_pp_warm_drink','4_act_window','4_state_window','4_when_act_window','4_act_door',\n",
    "              '4_state_door','4_when_act_door','4_act_blinds','4_state_blinds','4_when_act_blinds','4_act_lc_fan','4_state_lc_fan',\n",
    "              '4_when_act_lc_fan','4_act_lc_heater','4_state_lc_heater','4_when_act_lc_heater','4_act_thermostat','4_state_thermostat',\n",
    "              '4_when_act_thermostat','4_rsn_no_window','4_rsn_no_door','4_rsn_no_blinds','4_rsn_no_lc_fan','4_rsn_no_lc_heater',\n",
    "              '4_rsn_no_thermostat','4_avail_clth','4_avail_drinks','4_avail_lc_heater','4_avail_lc_fan','4_avail_thermostat',\n",
    "              '4_avail_window','4_avail_door','4_avail_blinds','4_eff_clth','4_eff_drinks','4_eff_lc_heater','4_eff_lc_fan',\n",
    "              '4_eff_thermostat','4_eff_window','4_eff_door','4_eff_blinds','4_report_dcmft']\n",
    "\n",
    "col_personal_values = ['5_pt_prod','5_pt_cmft_pleas','5_pt_wish','5_pt_others','5_pt_nrg_eff','5_pt_mgmt','5_pt_typ','6_pmv']\n",
    "\n",
    "#col_target = []"
   ]
  },
  {
   "cell_type": "raw",
   "metadata": {},
   "source": [
    "def get_redundant_pairs(df):\n",
    "    '''Get diagonal and lower triangular pairs of correlation matrix'''\n",
    "    pairs_to_drop = set()\n",
    "    cols = df.columns\n",
    "    for i in range(0, df.shape[1]):\n",
    "        for j in range(0, i+1):\n",
    "            pairs_to_drop.add((cols[i], cols[j]))\n",
    "    return pairs_to_drop\n",
    "\n",
    "def get_top_abs_correlations(df, n=5):\n",
    "    au_corr = df.corr().abs().unstack()\n",
    "    labels_to_drop = get_redundant_pairs(df)\n",
    "    au_corr = au_corr.drop(labels=labels_to_drop).sort_values(ascending=False)\n",
    "    return au_corr[0:n]\n",
    "\n",
    "print(\"Top Absolute Correlations\") \n",
    "print(get_top_abs_correlations(df,60))"
   ]
  },
  {
   "cell_type": "raw",
   "metadata": {},
   "source": [
    "# Checking correlations\n",
    "corr = df.corr().round(1)\n",
    "mask = np.zeros_like(corr)\n",
    "mask[np.triu_indices_from(mask)] = True\n",
    "with sns.axes_style(\"white\"):\n",
    "    fig, ax = plt.subplots(figsize=(50,50))\n",
    "    sns.heatmap(ax=ax, data=corr, mask=mask, annot=True, center=0, vmin=-1, vmax=1, cmap=\"RdBu_r\");\n",
    "    fig.savefig('../OccupantBehaviorEnvironmentData/figures/heatmap.png')"
   ]
  },
  {
   "cell_type": "code",
   "execution_count": 319,
   "metadata": {},
   "outputs": [
    {
     "data": {
      "text/plain": [
       "0_time                0\n",
       "0_occupant_nb         0\n",
       "0_occupancy_1         0\n",
       "0_occupancy_2         0\n",
       "0_survey_time    838487\n",
       "dtype: int64"
      ]
     },
     "execution_count": 319,
     "metadata": {},
     "output_type": "execute_result"
    }
   ],
   "source": [
    "df[col_general].isna().sum()"
   ]
  },
  {
   "cell_type": "code",
   "execution_count": 320,
   "metadata": {},
   "outputs": [
    {
     "data": {
      "text/html": [
       "<div>\n",
       "<style scoped>\n",
       "    .dataframe tbody tr th:only-of-type {\n",
       "        vertical-align: middle;\n",
       "    }\n",
       "\n",
       "    .dataframe tbody tr th {\n",
       "        vertical-align: top;\n",
       "    }\n",
       "\n",
       "    .dataframe thead th {\n",
       "        text-align: right;\n",
       "    }\n",
       "</style>\n",
       "<table border=\"1\" class=\"dataframe\">\n",
       "  <thead>\n",
       "    <tr style=\"text-align: right;\">\n",
       "      <th></th>\n",
       "      <th>0_time</th>\n",
       "      <th>0_occupant_nb</th>\n",
       "      <th>0_occupancy_1</th>\n",
       "      <th>0_occupancy_2</th>\n",
       "      <th>0_survey_time</th>\n",
       "    </tr>\n",
       "  </thead>\n",
       "  <tbody>\n",
       "    <tr>\n",
       "      <th>count</th>\n",
       "      <td>840984.000000</td>\n",
       "      <td>840984.000000</td>\n",
       "      <td>840984.000000</td>\n",
       "      <td>840984.000000</td>\n",
       "      <td>2497.000000</td>\n",
       "    </tr>\n",
       "    <tr>\n",
       "      <th>mean</th>\n",
       "      <td>735262.500000</td>\n",
       "      <td>12.500000</td>\n",
       "      <td>0.228208</td>\n",
       "      <td>0.037568</td>\n",
       "      <td>1.971165</td>\n",
       "    </tr>\n",
       "    <tr>\n",
       "      <th>std</th>\n",
       "      <td>105.369493</td>\n",
       "      <td>6.922191</td>\n",
       "      <td>0.419677</td>\n",
       "      <td>0.190149</td>\n",
       "      <td>0.811556</td>\n",
       "    </tr>\n",
       "    <tr>\n",
       "      <th>min</th>\n",
       "      <td>735080.000000</td>\n",
       "      <td>1.000000</td>\n",
       "      <td>0.000000</td>\n",
       "      <td>0.000000</td>\n",
       "      <td>1.000000</td>\n",
       "    </tr>\n",
       "    <tr>\n",
       "      <th>25%</th>\n",
       "      <td>735171.250000</td>\n",
       "      <td>6.750000</td>\n",
       "      <td>0.000000</td>\n",
       "      <td>0.000000</td>\n",
       "      <td>1.000000</td>\n",
       "    </tr>\n",
       "    <tr>\n",
       "      <th>50%</th>\n",
       "      <td>735262.499999</td>\n",
       "      <td>12.500000</td>\n",
       "      <td>0.000000</td>\n",
       "      <td>0.000000</td>\n",
       "      <td>2.000000</td>\n",
       "    </tr>\n",
       "    <tr>\n",
       "      <th>75%</th>\n",
       "      <td>735353.749999</td>\n",
       "      <td>18.250000</td>\n",
       "      <td>0.000000</td>\n",
       "      <td>0.000000</td>\n",
       "      <td>3.000000</td>\n",
       "    </tr>\n",
       "    <tr>\n",
       "      <th>max</th>\n",
       "      <td>735444.999999</td>\n",
       "      <td>24.000000</td>\n",
       "      <td>1.000000</td>\n",
       "      <td>1.000000</td>\n",
       "      <td>3.000000</td>\n",
       "    </tr>\n",
       "  </tbody>\n",
       "</table>\n",
       "</div>"
      ],
      "text/plain": [
       "              0_time  0_occupant_nb  0_occupancy_1  0_occupancy_2  \\\n",
       "count  840984.000000  840984.000000  840984.000000  840984.000000   \n",
       "mean   735262.500000      12.500000       0.228208       0.037568   \n",
       "std       105.369493       6.922191       0.419677       0.190149   \n",
       "min    735080.000000       1.000000       0.000000       0.000000   \n",
       "25%    735171.250000       6.750000       0.000000       0.000000   \n",
       "50%    735262.499999      12.500000       0.000000       0.000000   \n",
       "75%    735353.749999      18.250000       0.000000       0.000000   \n",
       "max    735444.999999      24.000000       1.000000       1.000000   \n",
       "\n",
       "       0_survey_time  \n",
       "count    2497.000000  \n",
       "mean        1.971165  \n",
       "std         0.811556  \n",
       "min         1.000000  \n",
       "25%         1.000000  \n",
       "50%         2.000000  \n",
       "75%         3.000000  \n",
       "max         3.000000  "
      ]
     },
     "execution_count": 320,
     "metadata": {},
     "output_type": "execute_result"
    }
   ],
   "source": [
    "df[col_general].describe()"
   ]
  },
  {
   "cell_type": "code",
   "execution_count": 321,
   "metadata": {},
   "outputs": [
    {
     "data": {
      "text/plain": [
       "1_in_temp         65526\n",
       "1_in_hum              0\n",
       "1_in_air_vel          0\n",
       "1_in_rad_temp     65526\n",
       "1_in_lum         709696\n",
       "1_in_co2         766391\n",
       "1_out_temp        52634\n",
       "1_out_hum         52634\n",
       "1_out_air_vel     52634\n",
       "dtype: int64"
      ]
     },
     "execution_count": 321,
     "metadata": {},
     "output_type": "execute_result"
    }
   ],
   "source": [
    "df[col_env].isna().sum()"
   ]
  },
  {
   "cell_type": "code",
   "execution_count": 322,
   "metadata": {},
   "outputs": [
    {
     "data": {
      "text/plain": [
       "2_met_rate_15min             0\n",
       "2_met_rate_60min             0\n",
       "2_clth_level             29952\n",
       "2_clth_level_wtchair     29952\n",
       "2_min_acc_sen                0\n",
       "2_med_acc_sen                0\n",
       "2_max_acc_sen                0\n",
       "2_min_acc                29952\n",
       "2_med_acc                29952\n",
       "2_max_acc                29952\n",
       "2_therm_pref            840418\n",
       "2_gender                 52380\n",
       "2_age                    86036\n",
       "2_off_type               52380\n",
       "2_floor_nb               52380\n",
       "2_loc_floor              52380\n",
       "2_min_acc_sen_sum        52380\n",
       "2_min_acc_sen_win        52380\n",
       "2_med_acc_sen_sum        52380\n",
       "2_med_acc_sen_win        52380\n",
       "2_max_acc_sen_sum        52380\n",
       "2_max_acc_sen_win        52380\n",
       "dtype: int64"
      ]
     },
     "execution_count": 322,
     "metadata": {},
     "output_type": "execute_result"
    }
   ],
   "source": [
    "df[col_pers_charact].isna().sum()"
   ]
  },
  {
   "cell_type": "code",
   "execution_count": 323,
   "metadata": {},
   "outputs": [
    {
     "data": {
      "text/plain": [
       "3_gen_th_cmf             838488\n",
       "3_th_cmf_mvmt            839074\n",
       "3_dcmf_head              840956\n",
       "3_dcmf_chest             840964\n",
       "3_dcmf_back              840961\n",
       "3_dcmf_pelvis            840984\n",
       "3_dcmf_arms              840963\n",
       "3_dcmf_hands             840963\n",
       "3_dcmf_legs              840977\n",
       "3_dcmf_feet              840966\n",
       "3_dcmf_all               840906\n",
       "3_th_sen                 838487\n",
       "3_th_sen_mvmt            839074\n",
       "3_rel_busy               839593\n",
       "3_rel_product            839709\n",
       "3_gen_satisf_wspace       52380\n",
       "3_gen_satisf_wpriv        52380\n",
       "3_gen_th_cmft             52380\n",
       "3_gen_satisf_wcontrol     52380\n",
       "dtype: int64"
      ]
     },
     "execution_count": 323,
     "metadata": {},
     "output_type": "execute_result"
    }
   ],
   "source": [
    "df[col_conf_prod].isna().sum()"
   ]
  },
  {
   "cell_type": "code",
   "execution_count": 324,
   "metadata": {},
   "outputs": [
    {
     "data": {
      "text/plain": [
       "4_fan_heat_class         562389\n",
       "4_state_fan_heat         562389\n",
       "4_state_window           571519\n",
       "4_crt_th_cool_spt        133435\n",
       "4_base_th_cool_spt       470611\n",
       "4_crt_th_heat_spt        133440\n",
       "4_base_th_heat_spt       470611\n",
       "4_clth_change            838487\n",
       "4_clth_change_up         838487\n",
       "4_clth_change_down       838487\n",
       "4_net_clth_change        838487\n",
       "4_drinking               838487\n",
       "4_pp_cold_drink          840667\n",
       "4_pp_warm_drink          840785\n",
       "4_act_window             838487\n",
       "4_state_window           571519\n",
       "4_when_act_window        840956\n",
       "4_act_door               838487\n",
       "4_state_door             840911\n",
       "4_when_act_door          840946\n",
       "4_act_blinds             838487\n",
       "4_state_blinds           840954\n",
       "4_when_act_blinds        840966\n",
       "4_act_lc_fan             838487\n",
       "4_state_lc_fan           840851\n",
       "4_when_act_lc_fan        840913\n",
       "4_act_lc_heater          838487\n",
       "4_state_lc_heater        840923\n",
       "4_when_act_lc_heater     840958\n",
       "4_act_thermostat         838487\n",
       "4_state_thermostat       840970\n",
       "4_when_act_thermostat    840979\n",
       "4_rsn_no_window          839123\n",
       "4_rsn_no_door            839688\n",
       "4_rsn_no_blinds          839170\n",
       "4_rsn_no_lc_fan          839903\n",
       "4_rsn_no_lc_heater       839929\n",
       "4_rsn_no_thermostat      839342\n",
       "4_avail_clth              52380\n",
       "4_avail_drinks            52380\n",
       "4_avail_lc_heater         52380\n",
       "4_avail_lc_fan            52380\n",
       "4_avail_thermostat        52380\n",
       "4_avail_window            52380\n",
       "4_avail_door              52380\n",
       "4_avail_blinds            52380\n",
       "4_eff_clth                52380\n",
       "4_eff_drinks              52380\n",
       "4_eff_lc_heater           52380\n",
       "4_eff_lc_fan              52380\n",
       "4_eff_thermostat          52380\n",
       "4_eff_window              52380\n",
       "4_eff_door                52380\n",
       "4_eff_blinds              52380\n",
       "4_report_dcmft           840110\n",
       "dtype: int64"
      ]
     },
     "execution_count": 324,
     "metadata": {},
     "output_type": "execute_result"
    }
   ],
   "source": [
    "df[col_behavior].isna().sum()"
   ]
  },
  {
   "cell_type": "code",
   "execution_count": 325,
   "metadata": {},
   "outputs": [
    {
     "data": {
      "text/plain": [
       "5_pt_prod          85540\n",
       "5_pt_cmft_pleas    85540\n",
       "5_pt_wish          85540\n",
       "5_pt_others        85540\n",
       "5_pt_nrg_eff       85540\n",
       "5_pt_mgmt          85540\n",
       "5_pt_typ           85540\n",
       "6_pmv              91233\n",
       "dtype: int64"
      ]
     },
     "execution_count": 325,
     "metadata": {},
     "output_type": "execute_result"
    }
   ],
   "source": [
    "df[col_personal_values].isna().sum()"
   ]
  },
  {
   "cell_type": "markdown",
   "metadata": {
    "heading_collapsed": true
   },
   "source": [
    "# Table 1"
   ]
  },
  {
   "cell_type": "code",
   "execution_count": 326,
   "metadata": {
    "hidden": true
   },
   "outputs": [
    {
     "data": {
      "text/plain": [
       "2.0    530732\n",
       "1.0    257872\n",
       "Name: 2_gender, dtype: int64"
      ]
     },
     "execution_count": 326,
     "metadata": {},
     "output_type": "execute_result"
    }
   ],
   "source": [
    "df['2_gender'].value_counts()"
   ]
  },
  {
   "cell_type": "code",
   "execution_count": 327,
   "metadata": {
    "hidden": true
   },
   "outputs": [
    {
     "data": {
      "text/plain": [
       "3.0    334585\n",
       "1.0    197454\n",
       "4.0    131155\n",
       "2.0     93351\n",
       "5.0     32059\n",
       "Name: 2_off_type, dtype: int64"
      ]
     },
     "execution_count": 327,
     "metadata": {},
     "output_type": "execute_result"
    }
   ],
   "source": [
    "df['2_off_type'].value_counts()"
   ]
  },
  {
   "cell_type": "markdown",
   "metadata": {},
   "source": [
    "# Fig - Behavioral opportunities"
   ]
  },
  {
   "cell_type": "code",
   "execution_count": 388,
   "metadata": {},
   "outputs": [
    {
     "name": "stderr",
     "output_type": "stream",
     "text": [
      "<ipython-input-388-8505b27b9808>:45: MatplotlibDeprecationWarning: Adding an axes using the same arguments as a previous axes currently reuses the earlier instance.  In a future version, a new instance will always be created and returned.  Meanwhile, this warning can be suppressed, and the future behavior ensured, by passing a unique label to each axes instance.\n",
      "  ax = plt.axes()\n"
     ]
    },
    {
     "data": {
      "image/png": "[encoded data removed]",
      "text/plain": [
       "<Figure size 396x576 with 1 Axes>"
      ]
     },
     "metadata": {},
     "output_type": "display_data"
    }
   ],
   "source": [
    "# Dataframe copy\n",
    "df_beh = df[['4_avail_clth','4_avail_drinks','4_avail_lc_heater','4_avail_lc_fan','4_avail_thermostat','4_avail_window','4_avail_door','4_avail_blinds']]\n",
    "df_beh = df_beh.dropna()\n",
    "df_beh = df_beh.astype(int)\n",
    "\n",
    "# print(df_beh.dtypes)\n",
    "\n",
    "\"\"\"\n",
    "# Check\n",
    "print('Clothing')\n",
    "print(df_beh['4_avail_clth'].isna().sum())\n",
    "print(df_beh['4_avail_clth'].value_counts())\n",
    "print(df_beh['4_avail_clth'].value_counts().sum())\n",
    "print('Proprotion for 1')\n",
    "print(round(df_beh['4_avail_clth'].value_counts(normalize=True).mul(1),2))\n",
    "\"\"\"\n",
    "# creating adjusted dataframe to generate graph\n",
    "df_new = pd.concat([df_beh['4_avail_clth'].value_counts(normalize=True).mul(1),\n",
    "                 df_beh['4_avail_drinks'].value_counts(normalize=True).mul(1),\n",
    "                 df_beh['4_avail_lc_heater'].value_counts(normalize=True).mul(1),\n",
    "                 df_beh['4_avail_lc_fan'].value_counts(normalize=True).mul(1),\n",
    "                 df_beh['4_avail_thermostat'].value_counts(normalize=True).mul(1),\n",
    "                 df_beh['4_avail_window'].value_counts(normalize=True).mul(1),\n",
    "                 df_beh['4_avail_door'].value_counts(normalize=True).mul(1),\n",
    "                 df_beh['4_avail_blinds'].value_counts(normalize=True).mul(1)],\n",
    "                axis=1,keys=('Clothing','Drinks','PHeat','PFan','Thermost.','Windows','Doors','Blinds'))\n",
    "\n",
    "dct_beh={0:'Cannot Do This/Don\\'t Know',\n",
    "     1:'Cannot Do This/Don\\'t Know',\n",
    "     2:'Choose Not To Do This',\n",
    "     3:'Do This After Consulting Others',\n",
    "     4:'Do This Whitout Consulting Others'}\n",
    "df_new = df_new.rename(index=dct_beh)\n",
    "df_new['Behavior']=df_new.index\n",
    "\n",
    "df_new = df_new.groupby(['Behavior'], as_index=True).agg('sum').T\n",
    "df_new = df_new[['Do This Whitout Consulting Others','Do This After Consulting Others',\n",
    "                 'Choose Not To Do This','Cannot Do This/Don\\'t Know']]\n",
    "\n",
    "# creates a stacked bar plot\n",
    "df_new.plot(kind='bar', stacked=True, color=['#548b54','#7ccd7c','#90ee90','#eee9e9'], \n",
    "            position=0.5, width=0.8, figsize=(5.5,8))\n",
    "plt.title('Behavioral Opportunities', fontsize = 25, fontweight=\"bold\", pad=30)\n",
    "\n",
    "ax = plt.axes()\n",
    "ax.set_facecolor(\"white\") # Setting the background color\n",
    "sns.despine(ax=ax, offset=5, trim=True,left=False,top=True,right=True) # the important part here  offset\n",
    "\n",
    "#sns.set(style='ticks') to be removed\n",
    "plt.legend(df_new.columns, loc='upper left', bbox_to_anchor=(1.02, 1.02), fontsize = 12, frameon=True, edgecolor='black')\n",
    "\n",
    "# Manage axis look\n",
    "sns.set(style='ticks')\n",
    "\n",
    "#Axis settings\n",
    "plt.xticks(fontsize=15, rotation=90, fontweight=\"bold\")\n",
    "plt.ylim(0, 1, 0.2)\n",
    "plt.yticks(fontsize=15, rotation=90, fontweight=\"bold\")\n",
    "plt.ylabel('Fraction Of Responses', fontsize=15,fontweight=\"bold\", labelpad=15)\n",
    "\n",
    "plt.savefig('../OccupantBehaviorEnvironmentData/figures/BehavioralOpportunities.png', bbox_inches = 'tight', dpi=250)"
   ]
  },
  {
   "cell_type": "markdown",
   "metadata": {
    "heading_collapsed": true
   },
   "source": [
    "# Fig - Survey Time of First Reported Action"
   ]
  },
  {
   "cell_type": "code",
   "execution_count": 329,
   "metadata": {
    "hidden": true
   },
   "outputs": [
    {
     "name": "stderr",
     "output_type": "stream",
     "text": [
      "<ipython-input-329-24e0083c3716>:106: MatplotlibDeprecationWarning: Adding an axes using the same arguments as a previous axes currently reuses the earlier instance.  In a future version, a new instance will always be created and returned.  Meanwhile, this warning can be suppressed, and the future behavior ensured, by passing a unique label to each axes instance.\n",
      "  ax = plt.axes()\n"
     ]
    },
    {
     "data": {
      "image/png": "[encoded data removed]",
      "text/plain": [
       "<Figure size 396x576 with 1 Axes>"
      ]
     },
     "metadata": {},
     "output_type": "display_data"
    }
   ],
   "source": [
    "\"\"\"\n",
    "Occupant number total is 24\n",
    "The survey should be filled by every one during four periods - 75 days \n",
    "\n",
    "Summer Surveys - 30-07 / 18-08\n",
    "Fall Surveys - 31-10 / 17/11\n",
    "Winter Surveys - 28-01 /11-02\n",
    "Spring Surveys - 01-04 / 26-04 \n",
    "\n",
    "For All Action execpt\n",
    "1 = TURNED ON without asking others\n",
    "2 = TURNED ON after asking others\n",
    "3 = TURNED OFF without asking others\n",
    "4 = TURNED OFF after asking others\n",
    "\n",
    "Clothing\n",
    "0 = None\n",
    "1 = Change (1 direction)\n",
    "2 = Change (Up and down)\n",
    "3 = No change, cannot adjust further\n",
    "99 = N/A\n",
    "\"\"\"\n",
    "\n",
    "\n",
    "# Function to convert matlab datenum into python datetime\n",
    "def datenum_to_datetime(datenum):\n",
    "    \"\"\"\n",
    "    Convert Matlab datenum into Python datetime.\n",
    "    :param datenum: Date in datenum format\n",
    "    :return:        Datetime object corresponding to datenum.\n",
    "    \"\"\"\n",
    "    days = datenum % 1\n",
    "    hours = days % 1 * 24\n",
    "    minutes = hours % 1 * 60\n",
    "    seconds = minutes % 1 * 60\n",
    "    return datetime.datetime.fromordinal(int(datenum)) \\\n",
    "           + datetime.timedelta(days=int(days)) \\\n",
    "           + datetime.timedelta(hours=int(hours)) \\\n",
    "           + datetime.timedelta(minutes=int(minutes)) \\\n",
    "           + datetime.timedelta(seconds=round(seconds)) \\\n",
    "           - datetime.timedelta(days=366)\n",
    "\n",
    "# Dataframe copy\n",
    "df_fra = df[['0_survey_time','0_time','0_occupant_nb','4_act_lc_heater','4_act_blinds','4_act_window','4_act_thermostat','4_clth_change','4_act_lc_fan','4_act_door']]\n",
    "df_fra = df_fra.dropna()\n",
    "df_fra['0_Datetime'] = df_fra['0_time'].apply(lambda x: datenum_to_datetime(x))\n",
    "df_fra['Date_EU'] = pd.DatetimeIndex(df_fra['0_Datetime']).strftime('%d-%m-%Y')\n",
    "df_fra['Time_EU'] = pd.DatetimeIndex(df_fra['0_Datetime']).strftime('%H:%M:%S')\n",
    "#df_fra['0_occupant_nb'] = df_fra['0_occupant_nb'].astype(int)\n",
    "\n",
    "\n",
    "\n",
    "\n",
    "# Selection the first action reported for each category and for each day & for each person\n",
    "purge_1 = pd.to_datetime(df_fra['Time_EU']).groupby([df_fra['4_act_lc_heater'],df_fra['0_occupant_nb'],df_fra['Date_EU']]).idxmin()\n",
    "df_fraf_1 = df_fra.loc[purge_1]\n",
    "\n",
    "purge_2 = pd.to_datetime(df_fra['Time_EU']).groupby([df_fra['4_act_blinds'],df_fra['0_occupant_nb'],df_fra['Date_EU']]).idxmin()\n",
    "df_fraf_2 = df_fra.loc[purge_2]\n",
    "\n",
    "purge_3 = pd.to_datetime(df_fra['Time_EU']).groupby([df_fra['4_act_window'],df_fra['0_occupant_nb'],df_fra['Date_EU']]).idxmin()\n",
    "df_fraf_3 = df_fra.loc[purge_3]\n",
    "\n",
    "purge_4 = pd.to_datetime(df_fra['Time_EU']).groupby([df_fra['4_act_thermostat'],df_fra['0_occupant_nb'],df_fra['Date_EU']]).idxmin()\n",
    "df_fraf_4 = df_fra.loc[purge_4]\n",
    "\n",
    "purge_5 = pd.to_datetime(df_fra['Time_EU']).groupby([df_fra['4_clth_change'],df_fra['0_occupant_nb'],df_fra['Date_EU']]).idxmin()\n",
    "df_fraf_5 = df_fra.loc[purge_5]\n",
    "\n",
    "purge_6 = pd.to_datetime(df_fra['Time_EU']).groupby([df_fra['4_act_lc_fan'],df_fra['0_occupant_nb'],df_fra['Date_EU']]).idxmin()\n",
    "df_fraf_6 = df_fra.loc[purge_6]\n",
    "\n",
    "purge_7 = pd.to_datetime(df_fra['Time_EU']).groupby([df_fra['4_act_door'],df_fra['0_occupant_nb'],df_fra['Date_EU']]).idxmin()\n",
    "df_fraf_7 = df_fra.loc[purge_7]\n",
    "\n",
    "\n",
    "\n",
    "\n",
    "# creating adjusted dataframe to generate graph\n",
    "df_fra2 = pd.concat([df_fraf_1['0_survey_time'][df_fraf_1['4_act_lc_heater']!=0].value_counts(normalize=True).mul(1),\n",
    "                     df_fraf_2['0_survey_time'][df_fraf_2['4_act_blinds']!=0].value_counts(normalize=True).mul(1),\n",
    "                     df_fraf_3['0_survey_time'][df_fraf_3['4_act_window']!=0].value_counts(normalize=True).mul(1),\n",
    "                     df_fraf_4['0_survey_time'][df_fraf_4['4_act_thermostat']!=0].value_counts(normalize=True).mul(1),\n",
    "                     df_fraf_5['0_survey_time'][df_fraf_5['4_clth_change']!=0].value_counts(normalize=True).mul(1),\n",
    "                     df_fraf_6['0_survey_time'][df_fraf_6['4_act_lc_fan']!=0].value_counts(normalize=True).mul(1),\n",
    "                     df_fraf_7['0_survey_time'][df_fraf_7['4_act_door']!=0].value_counts(normalize=True).mul(1)],\n",
    "                    axis=1,keys=('Heather','Blinds','Window','Thermostat','Clothing','Fan','Door'))\n",
    "\n",
    "dct_fra = {1:'Morning',\n",
    "           2:'Late morn.',\n",
    "           3:'Afternoon'}\n",
    "\n",
    "df_fra2 = df_fra2.rename(index=dct_fra)\n",
    "df_fra2['Time']=df_fra2.index\n",
    "df_fra2 = df_fra2.groupby(['Time'], as_index=True).agg('sum').T\n",
    "df_fra2 = df_fra2[['Morning','Late morn.','Afternoon']]\n",
    "\n",
    "\n",
    "\n",
    "\n",
    "# creates a stacked bar plot\n",
    "df_fra2.plot(kind='bar', stacked=True, color=['#104E8B','#007FFF','#CAE1FF'], \n",
    "            position=0.5, width=0.8, figsize=(5.5,8))\n",
    "plt.title('Survey Time of First Reported Action', fontsize = 25, fontweight=\"bold\", pad=30)\n",
    "\n",
    "ax = plt.axes()\n",
    "ax.set_facecolor(\"white\") # Setting the background color\n",
    "sns.despine(ax=ax, offset=5, trim=True,left=False,top=True,right=True) # the important part here  offset\n",
    "\n",
    "#sns.set(style='ticks') to be removed\n",
    "plt.legend(df_fra2.columns, loc='upper left', bbox_to_anchor=(1.02, 1.02), fontsize = 12, frameon=True, edgecolor='black')\n",
    "\n",
    "# Manage axis look\n",
    "sns.set(style='ticks')\n",
    "\n",
    "#Axis settings\n",
    "plt.xticks(fontsize=15, rotation=90, fontweight=\"bold\")\n",
    "plt.ylim(0, 1, 0.2)\n",
    "plt.yticks(fontsize=15, rotation=90, fontweight=\"bold\")\n",
    "plt.ylabel('Fraction Of Applicable Responses', fontsize=15,fontweight=\"bold\", labelpad=15)\n",
    "\n",
    "plt.savefig('../OccupantBehaviorEnvironmentData/figures/Survey Time of First Reported Action.png', bbox_inches = 'tight', dpi=250)"
   ]
  },
  {
   "cell_type": "markdown",
   "metadata": {
    "heading_collapsed": true
   },
   "source": [
    "# Fig - Upward Clo Adjust by Time of Day"
   ]
  },
  {
   "cell_type": "code",
   "execution_count": 382,
   "metadata": {
    "hidden": true
   },
   "outputs": [
    {
     "name": "stderr",
     "output_type": "stream",
     "text": [
      "<ipython-input-382-c9add83bdcdb>:48: MatplotlibDeprecationWarning: Adding an axes using the same arguments as a previous axes currently reuses the earlier instance.  In a future version, a new instance will always be created and returned.  Meanwhile, this warning can be suppressed, and the future behavior ensured, by passing a unique label to each axes instance.\n",
      "  ax = plt.axes()\n"
     ]
    },
    {
     "data": {
      "image/png": "[encoded data removed]",
      "text/plain": [
       "<Figure size 504x576 with 1 Axes>"
      ]
     },
     "metadata": {},
     "output_type": "display_data"
    }
   ],
   "source": [
    "# Dataframe copy\n",
    "df_up = df[['4_net_clth_change','4_clth_change_up','0_survey_time']]\n",
    "df_up = df_up.dropna()\n",
    "df_up = df_up[df_up['4_clth_change_up']==1]\n",
    "\n",
    "\"\"\"\n",
    "Based on minor change  = +/- 0.08 ; \n",
    "small change = +/- 0.18 ; \n",
    "moderate change = +/- 0.25 ; \n",
    "large change = +/- 0.32; \n",
    "largest change = +/- 0.44\n",
    "\"\"\"\n",
    "\n",
    "dct_fra = {1:'Morning',\n",
    "           2:'Late morn.',\n",
    "           3:'Afternoon'}\n",
    "\n",
    "dct_change = {0.00:'Minor (+)',-0.08:'Minor (+)',0.08:'Minor (+)',0.07:'Minor (+)',\n",
    "              -0.18:'Light (+)',0.18:'Light (+)',\n",
    "              0.25:'Medium (+)',-0.25:'Medium (+)',0.24:'Medium (+)',\n",
    "              0.32:'Heavy (+)',-0.32:'Heavy (+)',\n",
    "              -0.44:'Heaviest (+)',0.44:'Heaviest (+)',-0.76:'Heaviest (+)',\n",
    "              -0.57:'Heaviest (+)',-0.52:'Heaviest (+)',-0.69:'Heaviest (+)',\n",
    "              -0.70:'Heaviest (+)',-0.37:'Heaviest (+)',-0.62:'Heaviest (+)',-0.50:'Heaviest (+)'}\n",
    "\n",
    "\n",
    "# Mapping dictionnary to the dataframe\n",
    "df_up['4_net_clth_change'] = df_up['4_net_clth_change'].map(dct_change)\n",
    "df_up['0_survey_time'] = df_up['0_survey_time'].map(dct_fra)\n",
    "df_up = df_up[['4_net_clth_change','0_survey_time']]\n",
    "\n",
    "\n",
    "# creating adjusted dataframe to generate graph\n",
    "df_up2 = pd.concat([df_up['0_survey_time'][df_up['4_net_clth_change']=='Minor (+)'].value_counts(),\n",
    "                    df_up['0_survey_time'][df_up['4_net_clth_change']=='Light (+)'].value_counts(),\n",
    "                    df_up['0_survey_time'][df_up['4_net_clth_change']=='Medium (+)'].value_counts(),\n",
    "                    df_up['0_survey_time'][df_up['4_net_clth_change']=='Heavy (+)'].value_counts(),\n",
    "                    df_up['0_survey_time'][df_up['4_net_clth_change']=='Heaviest (+)'].value_counts()],\n",
    "                   axis=1,keys=('Minor (+)','Light (+)','Medium (+)','Heavy (+)','Heaviest (+)')).T\n",
    "df_up2 = df_up2[['Morning','Late morn.','Afternoon']]\n",
    "\n",
    "\n",
    "# creates a stacked bar plot\n",
    "df_up2.plot(kind='bar', stacked=True, color=['#000033','#104E8B','#42C0FB'], \n",
    "            position=0.5, width=0.6, figsize=(7,8))\n",
    "plt.title('Upward Clo Adjust by Time of Day', fontsize = 25, fontweight=\"bold\", pad=30)\n",
    "\n",
    "ax = plt.axes()\n",
    "ax.set_facecolor(\"white\") # Setting the background color\n",
    "sns.despine(ax=ax, offset=5, trim=True,left=False,top=True,right=True) # the important part here offset\n",
    "\n",
    "#sns.set(style='ticks') to be removed\n",
    "plt.legend(df_up2.columns, loc='upper left', bbox_to_anchor=(0.02, 0.95), fontsize = 12, frameon=True, edgecolor='black')\n",
    "\n",
    "# Manage axis look\n",
    "sns.set(style='ticks')\n",
    "\n",
    "#Axis settings\n",
    "plt.xticks(fontsize=15, rotation=90, fontweight=\"bold\")\n",
    "plt.yticks(fontsize=15, rotation=90, fontweight=\"bold\")\n",
    "plt.ylabel('Frequency', fontsize=15,fontweight=\"bold\", labelpad=15)\n",
    "\n",
    "plt.savefig('../OccupantBehaviorEnvironmentData/figures/Upward Clo Adjust by Time of Day.png', bbox_inches = 'tight', dpi=250)"
   ]
  },
  {
   "cell_type": "markdown",
   "metadata": {
    "heading_collapsed": true
   },
   "source": [
    "# Fig - Downward Clo Adjust by Time of Day"
   ]
  },
  {
   "cell_type": "code",
   "execution_count": 387,
   "metadata": {
    "hidden": true
   },
   "outputs": [
    {
     "name": "stderr",
     "output_type": "stream",
     "text": [
      "<ipython-input-387-70a862de08a0>:48: MatplotlibDeprecationWarning: Adding an axes using the same arguments as a previous axes currently reuses the earlier instance.  In a future version, a new instance will always be created and returned.  Meanwhile, this warning can be suppressed, and the future behavior ensured, by passing a unique label to each axes instance.\n",
      "  ax = plt.axes()\n"
     ]
    },
    {
     "data": {
      "image/png": "[encoded data removed]",
      "text/plain": [
       "<Figure size 504x576 with 1 Axes>"
      ]
     },
     "metadata": {},
     "output_type": "display_data"
    }
   ],
   "source": [
    "# Dataframe copy\n",
    "df_down = df[['4_net_clth_change','4_clth_change_down','0_survey_time']]\n",
    "df_down = df_down.dropna()\n",
    "df_down = df_down[df_down['4_clth_change_down']==1]\n",
    "\n",
    "\"\"\"\n",
    "Based on minor change  = +/- 0.08 ; \n",
    "small change = +/- 0.18 ; \n",
    "moderate change = +/- 0.25 ; \n",
    "large change = +/- 0.32; \n",
    "largest change = +/- 0.44\n",
    "\"\"\"\n",
    "\n",
    "dct_fra = {1:'Morning',\n",
    "           2:'Late morn.',\n",
    "           3:'Afternoon'}\n",
    "\n",
    "dct_change = {0.00:'Minor (+)',-0.08:'Minor (+)',0.08:'Minor (+)',0.07:'Minor (+)',\n",
    "              -0.18:'Light (+)',0.18:'Light (+)',\n",
    "              0.25:'Medium (+)',-0.25:'Medium (+)',0.24:'Medium (+)',\n",
    "              0.32:'Heavy (+)',-0.32:'Heavy (+)',\n",
    "              -0.44:'Heaviest (+)',0.44:'Heaviest (+)',-0.76:'Heaviest (+)',\n",
    "              -0.57:'Heaviest (+)',-0.52:'Heaviest (+)',-0.69:'Heaviest (+)',\n",
    "              -0.70:'Heaviest (+)',-0.37:'Heaviest (+)',-0.62:'Heaviest (+)',-0.50:'Heaviest (+)'}\n",
    "\n",
    "\n",
    "# Mapping dictionnary to the dataframe\n",
    "df_down['4_net_clth_change'] = df_down['4_net_clth_change'].map(dct_change)\n",
    "df_down['0_survey_time'] = df_down['0_survey_time'].map(dct_fra)\n",
    "df_down = df_down[['4_net_clth_change','0_survey_time']]\n",
    "\n",
    "\n",
    "# creating adjusted dataframe to generate graph\n",
    "df_down2 = pd.concat([df_down['0_survey_time'][df_down['4_net_clth_change']=='Minor (+)'].value_counts(),\n",
    "                    df_down['0_survey_time'][df_down['4_net_clth_change']=='Light (+)'].value_counts(),\n",
    "                    df_down['0_survey_time'][df_down['4_net_clth_change']=='Medium (+)'].value_counts(),\n",
    "                    df_down['0_survey_time'][df_down['4_net_clth_change']=='Heavy (+)'].value_counts(),\n",
    "                    df_down['0_survey_time'][df_down['4_net_clth_change']=='Heaviest (+)'].value_counts()],\n",
    "                   axis=1,keys=('Minor (+)','Light (+)','Medium (+)','Heavy (+)','Heaviest (+)')).T\n",
    "df_down2 = df_down2[['Morning','Late morn.','Afternoon']]\n",
    "\n",
    "\n",
    "# creates a stacked bar plot\n",
    "df_down2.plot(kind='bar', stacked=True, color=['#49330b','#7a5512','#c4881e'], \n",
    "            position=0.5, width=0.6, figsize=(7,8))\n",
    "plt.title('Downward Clo Adjust by Time of Day', fontsize = 25, fontweight=\"bold\", pad=30)\n",
    "\n",
    "ax = plt.axes()\n",
    "ax.set_facecolor(\"white\") # Setting the background color\n",
    "sns.despine(ax=ax, offset=5, trim=True,left=False,top=True,right=True) # the important part here offset\n",
    "\n",
    "#sns.set(style='ticks') to be removed\n",
    "plt.legend(df_down2.columns, loc='upper left', bbox_to_anchor=(1.02, 0.95), fontsize = 12, frameon=True, edgecolor='black')\n",
    "\n",
    "# Manage axis look\n",
    "sns.set(style='ticks')\n",
    "\n",
    "#Axis settings\n",
    "plt.xticks(fontsize=15, rotation=90, fontweight=\"bold\")\n",
    "plt.yticks(fontsize=15, rotation=90, fontweight=\"bold\")\n",
    "plt.ylabel('Frequency', fontsize=15,fontweight=\"bold\", labelpad=15)\n",
    "\n",
    "plt.savefig('../OccupantBehaviorEnvironmentData/figures/Downward Clo Adjust by Time of Day.png', bbox_inches = 'tight', dpi=250)"
   ]
  },
  {
   "cell_type": "markdown",
   "metadata": {
    "heading_collapsed": true
   },
   "source": [
    "# Generating Table - Occupant Sample Characteristics"
   ]
  },
  {
   "cell_type": "markdown",
   "metadata": {
    "hidden": true
   },
   "source": [
    "Gender"
   ]
  },
  {
   "cell_type": "code",
   "execution_count": null,
   "metadata": {
    "hidden": true
   },
   "outputs": [],
   "source": [
    "dct_gdr = {1:'Male',2:'Female'}\n",
    "\n",
    "gdr = pd.concat([round(df['2_gender'].value_counts(normalize=True).mul(1)*24,0).astype(int),\n",
    "                round(df['2_gender'].value_counts(normalize=True).mul(100),0).astype(int)],\n",
    "                axis=1,keys=('N','% of final sample'))\n",
    "\n",
    "gdr = gdr.rename(index=dct_gdr)\n",
    "gdr['Category'] = gdr.index\n",
    "gdr=gdr[['Category','N','% of final sample']]\n",
    "#gdr.reset_index(drop=True)\n",
    "gdr = gdr.rename(index={'Female':'Gender','Male':'Gender'})\n",
    "gdr"
   ]
  },
  {
   "cell_type": "markdown",
   "metadata": {
    "hidden": true
   },
   "source": [
    "Office Type"
   ]
  },
  {
   "cell_type": "code",
   "execution_count": 19,
   "metadata": {
    "hidden": true
   },
   "outputs": [
    {
     "data": {
      "text/html": [
       "<div>\n",
       "<style scoped>\n",
       "    .dataframe tbody tr th:only-of-type {\n",
       "        vertical-align: middle;\n",
       "    }\n",
       "\n",
       "    .dataframe tbody tr th {\n",
       "        vertical-align: top;\n",
       "    }\n",
       "\n",
       "    .dataframe thead th {\n",
       "        text-align: right;\n",
       "    }\n",
       "</style>\n",
       "<table border=\"1\" class=\"dataframe\">\n",
       "  <thead>\n",
       "    <tr style=\"text-align: right;\">\n",
       "      <th></th>\n",
       "      <th>Category</th>\n",
       "      <th>N</th>\n",
       "      <th>% of final sample</th>\n",
       "    </tr>\n",
       "  </thead>\n",
       "  <tbody>\n",
       "    <tr>\n",
       "      <th>Office type</th>\n",
       "      <td>Cubicle</td>\n",
       "      <td>10</td>\n",
       "      <td>42</td>\n",
       "    </tr>\n",
       "    <tr>\n",
       "      <th>Office type</th>\n",
       "      <td>Open Desk</td>\n",
       "      <td>5</td>\n",
       "      <td>21</td>\n",
       "    </tr>\n",
       "    <tr>\n",
       "      <th>Office type</th>\n",
       "      <td>Private</td>\n",
       "      <td>6</td>\n",
       "      <td>25</td>\n",
       "    </tr>\n",
       "    <tr>\n",
       "      <th>Office type</th>\n",
       "      <td>Shared private</td>\n",
       "      <td>3</td>\n",
       "      <td>12</td>\n",
       "    </tr>\n",
       "  </tbody>\n",
       "</table>\n",
       "</div>"
      ],
      "text/plain": [
       "                   Category   N  % of final sample\n",
       "Office type         Cubicle  10                 42\n",
       "Office type       Open Desk   5                 21\n",
       "Office type         Private   6                 25\n",
       "Office type  Shared private   3                 12"
      ]
     },
     "execution_count": 19,
     "metadata": {},
     "output_type": "execute_result"
    }
   ],
   "source": [
    "dct_off = {1:'Private',2:'Shared private',3:'Cubicle',4:'Open Desk',5:'Open Desk'}\n",
    "\n",
    "off = pd.concat([round(df['2_off_type'].value_counts(normalize=True).mul(1)*24,0).astype(int),\n",
    "                round(df['2_off_type'].value_counts(normalize=True).mul(100),0).astype(int)],\n",
    "                axis=1,keys=('N','% of final sample'))\n",
    "\n",
    "off = off.rename(index=dct_off)\n",
    "off['Category'] = off.index\n",
    "off=off[['Category','N','% of final sample']]\n",
    "\n",
    "off = off.groupby(by='Category', as_index=False).sum()\n",
    "off = off.rename(index={0:'Office type',1:'Office type',2:'Office type',3:'Office type'})\n",
    "off"
   ]
  },
  {
   "cell_type": "markdown",
   "metadata": {
    "hidden": true
   },
   "source": [
    "Office Location"
   ]
  },
  {
   "cell_type": "code",
   "execution_count": 20,
   "metadata": {
    "hidden": true
   },
   "outputs": [
    {
     "data": {
      "text/html": [
       "<div>\n",
       "<style scoped>\n",
       "    .dataframe tbody tr th:only-of-type {\n",
       "        vertical-align: middle;\n",
       "    }\n",
       "\n",
       "    .dataframe tbody tr th {\n",
       "        vertical-align: top;\n",
       "    }\n",
       "\n",
       "    .dataframe thead th {\n",
       "        text-align: right;\n",
       "    }\n",
       "</style>\n",
       "<table border=\"1\" class=\"dataframe\">\n",
       "  <thead>\n",
       "    <tr style=\"text-align: right;\">\n",
       "      <th></th>\n",
       "      <th>Category</th>\n",
       "      <th>N</th>\n",
       "      <th>% of final sample</th>\n",
       "    </tr>\n",
       "  </thead>\n",
       "  <tbody>\n",
       "    <tr>\n",
       "      <th>Office location</th>\n",
       "      <td>Perimeter</td>\n",
       "      <td>15</td>\n",
       "      <td>63</td>\n",
       "    </tr>\n",
       "    <tr>\n",
       "      <th>Office location</th>\n",
       "      <td>Core</td>\n",
       "      <td>9</td>\n",
       "      <td>37</td>\n",
       "    </tr>\n",
       "  </tbody>\n",
       "</table>\n",
       "</div>"
      ],
      "text/plain": [
       "                  Category   N  % of final sample\n",
       "Office location  Perimeter  15                 63\n",
       "Office location       Core   9                 37"
      ]
     },
     "execution_count": 20,
     "metadata": {},
     "output_type": "execute_result"
    }
   ],
   "source": [
    "dct_loc = {1:'Core',2:'Perimeter'}\n",
    "\n",
    "loc = pd.concat([round(df['2_loc_floor'].value_counts(normalize=True).mul(1)*24,0).astype(int),\n",
    "                round(df['2_loc_floor'].value_counts(normalize=True).mul(100),0).astype(int)],\n",
    "                axis=1,keys=('N','% of final sample'))\n",
    "\n",
    "loc = loc.rename(index=dct_loc)\n",
    "loc['Category'] = loc.index\n",
    "loc=loc[['Category','N','% of final sample']]\n",
    "\n",
    "loc = loc.rename(index={'Perimeter':'Office location','Core':'Office location'})\n",
    "loc"
   ]
  },
  {
   "cell_type": "markdown",
   "metadata": {
    "hidden": true
   },
   "source": [
    "Available controls"
   ]
  },
  {
   "cell_type": "code",
   "execution_count": 21,
   "metadata": {
    "hidden": true
   },
   "outputs": [],
   "source": [
    "\"\"\"\n",
    "0 = Don't Know ; \n",
    "1 = Not Allowed / Possible ; \n",
    "2 = I Can Do This, But Choose Not To; \n",
    "3 = I Do This But Generally Need to Consult Others First ; \n",
    "4 = I Do This Without Consulting Others\n",
    "\"\"\"\n",
    "dct_ctr = {0:'not used',1:'not used',2:'not used',3:'used',4:'used'}"
   ]
  },
  {
   "cell_type": "code",
   "execution_count": 22,
   "metadata": {
    "hidden": true
   },
   "outputs": [
    {
     "data": {
      "text/html": [
       "<div>\n",
       "<style scoped>\n",
       "    .dataframe tbody tr th:only-of-type {\n",
       "        vertical-align: middle;\n",
       "    }\n",
       "\n",
       "    .dataframe tbody tr th {\n",
       "        vertical-align: top;\n",
       "    }\n",
       "\n",
       "    .dataframe thead th {\n",
       "        text-align: right;\n",
       "    }\n",
       "</style>\n",
       "<table border=\"1\" class=\"dataframe\">\n",
       "  <thead>\n",
       "    <tr style=\"text-align: right;\">\n",
       "      <th></th>\n",
       "      <th>Category</th>\n",
       "      <th>N</th>\n",
       "      <th>% of final sample</th>\n",
       "    </tr>\n",
       "  </thead>\n",
       "  <tbody>\n",
       "    <tr>\n",
       "      <th>Available controls</th>\n",
       "      <td>used</td>\n",
       "      <td>4</td>\n",
       "      <td>17</td>\n",
       "    </tr>\n",
       "  </tbody>\n",
       "</table>\n",
       "</div>"
      ],
      "text/plain": [
       "                   Category  N  % of final sample\n",
       "Available controls     used  4                 17"
      ]
     },
     "execution_count": 22,
     "metadata": {},
     "output_type": "execute_result"
    }
   ],
   "source": [
    "htr = pd.concat([round(df['4_avail_lc_heater'].value_counts(normalize=True).mul(1)*24,0).astype(int),\n",
    "                round(df['4_avail_lc_heater'].value_counts(normalize=True).mul(100),0).astype(int)],\n",
    "                axis=1,keys=('N','% of final sample'))\n",
    "\n",
    "htr = htr.rename(index=dct_ctr)\n",
    "htr['Category'] = htr.index\n",
    "htr = htr[['Category','N','% of final sample']]\n",
    "htr = htr[htr['Category']=='used']\n",
    "htr = htr.groupby(by='Category', as_index=False).sum()\n",
    "htr = htr.rename(index={0:'Available controls'})\n",
    "htr"
   ]
  },
  {
   "cell_type": "code",
   "execution_count": 23,
   "metadata": {
    "hidden": true
   },
   "outputs": [
    {
     "data": {
      "text/html": [
       "<div>\n",
       "<style scoped>\n",
       "    .dataframe tbody tr th:only-of-type {\n",
       "        vertical-align: middle;\n",
       "    }\n",
       "\n",
       "    .dataframe tbody tr th {\n",
       "        vertical-align: top;\n",
       "    }\n",
       "\n",
       "    .dataframe thead th {\n",
       "        text-align: right;\n",
       "    }\n",
       "</style>\n",
       "<table border=\"1\" class=\"dataframe\">\n",
       "  <thead>\n",
       "    <tr style=\"text-align: right;\">\n",
       "      <th></th>\n",
       "      <th>Category</th>\n",
       "      <th>N</th>\n",
       "      <th>% of final sample</th>\n",
       "    </tr>\n",
       "  </thead>\n",
       "  <tbody>\n",
       "    <tr>\n",
       "      <th>Available controls</th>\n",
       "      <td>Heater</td>\n",
       "      <td>5</td>\n",
       "      <td>22</td>\n",
       "    </tr>\n",
       "  </tbody>\n",
       "</table>\n",
       "</div>"
      ],
      "text/plain": [
       "                   Category  N  % of final sample\n",
       "Available controls   Heater  5                 22"
      ]
     },
     "execution_count": 23,
     "metadata": {},
     "output_type": "execute_result"
    }
   ],
   "source": [
    "fan = pd.concat([round(df['4_avail_lc_fan'].value_counts(normalize=True).mul(1)*24,0).astype(int),\n",
    "                round(df['4_avail_lc_fan'].value_counts(normalize=True).mul(100),0).astype(int)],\n",
    "                axis=1,keys=('N','% of final sample'))\n",
    "\n",
    "fan = fan.rename(index=dct_ctr)\n",
    "fan['Category'] = fan.index\n",
    "fan = fan[['Category','N','% of final sample']]\n",
    "fan = fan[fan['Category']=='used']\n",
    "fan['Category']='Heater'\n",
    "fan = fan.reset_index(drop=True)\n",
    "fan = fan.rename(index={0:'Available controls'})\n",
    "fan"
   ]
  },
  {
   "cell_type": "code",
   "execution_count": 24,
   "metadata": {
    "hidden": true
   },
   "outputs": [
    {
     "data": {
      "text/html": [
       "<div>\n",
       "<style scoped>\n",
       "    .dataframe tbody tr th:only-of-type {\n",
       "        vertical-align: middle;\n",
       "    }\n",
       "\n",
       "    .dataframe tbody tr th {\n",
       "        vertical-align: top;\n",
       "    }\n",
       "\n",
       "    .dataframe thead th {\n",
       "        text-align: right;\n",
       "    }\n",
       "</style>\n",
       "<table border=\"1\" class=\"dataframe\">\n",
       "  <thead>\n",
       "    <tr style=\"text-align: right;\">\n",
       "      <th></th>\n",
       "      <th>Category</th>\n",
       "      <th>N</th>\n",
       "      <th>% of final sample</th>\n",
       "    </tr>\n",
       "  </thead>\n",
       "  <tbody>\n",
       "    <tr>\n",
       "      <th>Available controls</th>\n",
       "      <td>Thermostat</td>\n",
       "      <td>10</td>\n",
       "      <td>41</td>\n",
       "    </tr>\n",
       "  </tbody>\n",
       "</table>\n",
       "</div>"
      ],
      "text/plain": [
       "                      Category   N  % of final sample\n",
       "Available controls  Thermostat  10                 41"
      ]
     },
     "execution_count": 24,
     "metadata": {},
     "output_type": "execute_result"
    }
   ],
   "source": [
    "thm = pd.concat([round(df['4_avail_thermostat'].value_counts(normalize=True).mul(1)*24,0).astype(int),\n",
    "                round(df['4_avail_thermostat'].value_counts(normalize=True).mul(100),0).astype(int)],\n",
    "                axis=1,keys=('N','% of final sample'))\n",
    "\n",
    "thm = thm.rename(index=dct_ctr)\n",
    "thm['Category'] = thm.index\n",
    "thm = thm[['Category','N','% of final sample']]\n",
    "thm = thm[thm['Category']=='used']\n",
    "thm = thm.groupby(by='Category', as_index=False).sum()\n",
    "thm['Category']='Thermostat'\n",
    "thm = thm.rename(index={0:'Available controls'})\n",
    "thm"
   ]
  },
  {
   "cell_type": "code",
   "execution_count": 25,
   "metadata": {
    "hidden": true
   },
   "outputs": [
    {
     "data": {
      "text/html": [
       "<div>\n",
       "<style scoped>\n",
       "    .dataframe tbody tr th:only-of-type {\n",
       "        vertical-align: middle;\n",
       "    }\n",
       "\n",
       "    .dataframe tbody tr th {\n",
       "        vertical-align: top;\n",
       "    }\n",
       "\n",
       "    .dataframe thead th {\n",
       "        text-align: right;\n",
       "    }\n",
       "</style>\n",
       "<table border=\"1\" class=\"dataframe\">\n",
       "  <thead>\n",
       "    <tr style=\"text-align: right;\">\n",
       "      <th></th>\n",
       "      <th>Category</th>\n",
       "      <th>N</th>\n",
       "      <th>% of final sample</th>\n",
       "    </tr>\n",
       "  </thead>\n",
       "  <tbody>\n",
       "    <tr>\n",
       "      <th>Available controls</th>\n",
       "      <td>Windows</td>\n",
       "      <td>12</td>\n",
       "      <td>50</td>\n",
       "    </tr>\n",
       "  </tbody>\n",
       "</table>\n",
       "</div>"
      ],
      "text/plain": [
       "                   Category   N  % of final sample\n",
       "Available controls  Windows  12                 50"
      ]
     },
     "execution_count": 25,
     "metadata": {},
     "output_type": "execute_result"
    }
   ],
   "source": [
    "wdw = pd.concat([round(df['4_avail_window'].value_counts(normalize=True).mul(1)*24,0).astype(int),\n",
    "                round(df['4_avail_window'].value_counts(normalize=True).mul(100),0).astype(int)],\n",
    "                axis=1,keys=('N','% of final sample'))\n",
    "\n",
    "wdw = wdw.rename(index=dct_ctr)\n",
    "wdw['Category'] = wdw.index\n",
    "wdw = wdw[['Category','N','% of final sample']]\n",
    "wdw = wdw[wdw['Category']=='used']\n",
    "wdw = wdw.groupby(by='Category', as_index=False).sum()\n",
    "wdw['Category']='Windows'\n",
    "wdw = wdw.rename(index={0:'Available controls'})\n",
    "wdw"
   ]
  },
  {
   "cell_type": "code",
   "execution_count": 26,
   "metadata": {
    "hidden": true
   },
   "outputs": [
    {
     "data": {
      "text/html": [
       "<div>\n",
       "<style scoped>\n",
       "    .dataframe tbody tr th:only-of-type {\n",
       "        vertical-align: middle;\n",
       "    }\n",
       "\n",
       "    .dataframe tbody tr th {\n",
       "        vertical-align: top;\n",
       "    }\n",
       "\n",
       "    .dataframe thead th {\n",
       "        text-align: right;\n",
       "    }\n",
       "</style>\n",
       "<table border=\"1\" class=\"dataframe\">\n",
       "  <thead>\n",
       "    <tr style=\"text-align: right;\">\n",
       "      <th></th>\n",
       "      <th>Category</th>\n",
       "      <th>N</th>\n",
       "      <th>% of final sample</th>\n",
       "    </tr>\n",
       "  </thead>\n",
       "  <tbody>\n",
       "    <tr>\n",
       "      <th>Available controls</th>\n",
       "      <td>Doors</td>\n",
       "      <td>9</td>\n",
       "      <td>36</td>\n",
       "    </tr>\n",
       "  </tbody>\n",
       "</table>\n",
       "</div>"
      ],
      "text/plain": [
       "                   Category  N  % of final sample\n",
       "Available controls    Doors  9                 36"
      ]
     },
     "execution_count": 26,
     "metadata": {},
     "output_type": "execute_result"
    }
   ],
   "source": [
    "dr = pd.concat([round(df['4_avail_door'].value_counts(normalize=True).mul(1)*24,0).astype(int),\n",
    "                round(df['4_avail_door'].value_counts(normalize=True).mul(100),0).astype(int)],\n",
    "                axis=1,keys=('N','% of final sample'))\n",
    "\n",
    "dr = dr.rename(index=dct_ctr)\n",
    "dr['Category'] = dr.index\n",
    "dr = dr[['Category','N','% of final sample']]\n",
    "dr = dr[dr['Category']=='used']\n",
    "dr = dr.groupby(by='Category', as_index=False).sum()\n",
    "dr['Category']='Doors'\n",
    "dr = dr.rename(index={0:'Available controls'})\n",
    "dr"
   ]
  },
  {
   "cell_type": "code",
   "execution_count": 27,
   "metadata": {
    "hidden": true
   },
   "outputs": [
    {
     "data": {
      "text/html": [
       "<div>\n",
       "<style scoped>\n",
       "    .dataframe tbody tr th:only-of-type {\n",
       "        vertical-align: middle;\n",
       "    }\n",
       "\n",
       "    .dataframe tbody tr th {\n",
       "        vertical-align: top;\n",
       "    }\n",
       "\n",
       "    .dataframe thead th {\n",
       "        text-align: right;\n",
       "    }\n",
       "</style>\n",
       "<table border=\"1\" class=\"dataframe\">\n",
       "  <thead>\n",
       "    <tr style=\"text-align: right;\">\n",
       "      <th></th>\n",
       "      <th>Category</th>\n",
       "      <th>N</th>\n",
       "      <th>% of final sample</th>\n",
       "    </tr>\n",
       "  </thead>\n",
       "  <tbody>\n",
       "    <tr>\n",
       "      <th>Available controls</th>\n",
       "      <td>Blinds</td>\n",
       "      <td>16</td>\n",
       "      <td>66</td>\n",
       "    </tr>\n",
       "  </tbody>\n",
       "</table>\n",
       "</div>"
      ],
      "text/plain": [
       "                   Category   N  % of final sample\n",
       "Available controls   Blinds  16                 66"
      ]
     },
     "execution_count": 27,
     "metadata": {},
     "output_type": "execute_result"
    }
   ],
   "source": [
    "bld = pd.concat([round(df['4_avail_blinds'].value_counts(normalize=True).mul(1)*24,0).astype(int),\n",
    "                round(df['4_avail_blinds'].value_counts(normalize=True).mul(100),0).astype(int)],\n",
    "                axis=1,keys=('N','% of final sample'))\n",
    "\n",
    "\n",
    "bld = bld.rename(index=dct_ctr)\n",
    "bld['Category'] = bld.index\n",
    "bld = bld[['Category','N','% of final sample']]\n",
    "bld = bld[bld['Category']=='used']\n",
    "bld = bld.groupby(by='Category', as_index=False).sum()\n",
    "bld['Category']='Blinds'\n",
    "bld = bld.rename(index={0:'Available controls'})\n",
    "bld"
   ]
  },
  {
   "cell_type": "markdown",
   "metadata": {
    "hidden": true
   },
   "source": [
    "Gen. thermal comfort"
   ]
  },
  {
   "cell_type": "code",
   "execution_count": 28,
   "metadata": {
    "hidden": true
   },
   "outputs": [
    {
     "data": {
      "text/html": [
       "<div>\n",
       "<style scoped>\n",
       "    .dataframe tbody tr th:only-of-type {\n",
       "        vertical-align: middle;\n",
       "    }\n",
       "\n",
       "    .dataframe tbody tr th {\n",
       "        vertical-align: top;\n",
       "    }\n",
       "\n",
       "    .dataframe thead th {\n",
       "        text-align: right;\n",
       "    }\n",
       "</style>\n",
       "<table border=\"1\" class=\"dataframe\">\n",
       "  <thead>\n",
       "    <tr style=\"text-align: right;\">\n",
       "      <th></th>\n",
       "      <th>Category</th>\n",
       "      <th>N</th>\n",
       "      <th>% of final sample</th>\n",
       "    </tr>\n",
       "  </thead>\n",
       "  <tbody>\n",
       "    <tr>\n",
       "      <th>Gen. thermal comfort</th>\n",
       "      <td>&lt; Comfortable</td>\n",
       "      <td>21</td>\n",
       "      <td>87</td>\n",
       "    </tr>\n",
       "    <tr>\n",
       "      <th>Gen. thermal comfort</th>\n",
       "      <td>≥ Comfortable</td>\n",
       "      <td>3</td>\n",
       "      <td>12</td>\n",
       "    </tr>\n",
       "  </tbody>\n",
       "</table>\n",
       "</div>"
      ],
      "text/plain": [
       "                           Category   N  % of final sample\n",
       "Gen. thermal comfort  < Comfortable  21                 87\n",
       "Gen. thermal comfort  ≥ Comfortable   3                 12"
      ]
     },
     "execution_count": 28,
     "metadata": {},
     "output_type": "execute_result"
    }
   ],
   "source": [
    "#1 = Very UNCOMF. ; 2 = UNCOMF. ; 3 = Somewhat UNCOMF. 4 = Somewhat COMF. ; 5 = COMF. ; 6 = Very COMF.\n",
    "dct_comf = {1:'≥ Comfortable',2:'≥ Comfortable',3:'≥ Comfortable',\n",
    "            4:'< Comfortable',5:'< Comfortable',6:'< Comfortable'}\n",
    "\n",
    "comf = pd.concat([round(df['3_gen_th_cmf'].value_counts(normalize=True).mul(1)*24,0).astype(int),\n",
    "                round(df['3_gen_th_cmf'].value_counts(normalize=True).mul(100),0).astype(int)],\n",
    "                axis=1,keys=('N','% of final sample'))\n",
    "\n",
    "comf = comf.rename(index=dct_comf)\n",
    "comf['Category'] = comf.index\n",
    "comf=comf[['Category','N','% of final sample']]\n",
    "\n",
    "comf = comf.groupby(by='Category', as_index=False).sum()\n",
    "comf = comf.rename(index={0:'Gen. thermal comfort',1:'Gen. thermal comfort'})\n",
    "comf"
   ]
  },
  {
   "cell_type": "markdown",
   "metadata": {
    "hidden": true
   },
   "source": [
    "Gen. perceived ctl. satisfaction"
   ]
  },
  {
   "cell_type": "code",
   "execution_count": 29,
   "metadata": {
    "hidden": true
   },
   "outputs": [
    {
     "data": {
      "text/html": [
       "<div>\n",
       "<style scoped>\n",
       "    .dataframe tbody tr th:only-of-type {\n",
       "        vertical-align: middle;\n",
       "    }\n",
       "\n",
       "    .dataframe tbody tr th {\n",
       "        vertical-align: top;\n",
       "    }\n",
       "\n",
       "    .dataframe thead th {\n",
       "        text-align: right;\n",
       "    }\n",
       "</style>\n",
       "<table border=\"1\" class=\"dataframe\">\n",
       "  <thead>\n",
       "    <tr style=\"text-align: right;\">\n",
       "      <th></th>\n",
       "      <th>Category</th>\n",
       "      <th>N</th>\n",
       "      <th>% of final sample</th>\n",
       "    </tr>\n",
       "  </thead>\n",
       "  <tbody>\n",
       "    <tr>\n",
       "      <th>Gen. perceived ctl. satisfaction</th>\n",
       "      <td>&lt; Satisfied</td>\n",
       "      <td>6</td>\n",
       "      <td>25</td>\n",
       "    </tr>\n",
       "    <tr>\n",
       "      <th>Gen. perceived ctl. satisfaction</th>\n",
       "      <td>≥ Satisfied</td>\n",
       "      <td>18</td>\n",
       "      <td>76</td>\n",
       "    </tr>\n",
       "  </tbody>\n",
       "</table>\n",
       "</div>"
      ],
      "text/plain": [
       "                                     Category   N  % of final sample\n",
       "Gen. perceived ctl. satisfaction  < Satisfied   6                 25\n",
       "Gen. perceived ctl. satisfaction  ≥ Satisfied  18                 76"
      ]
     },
     "execution_count": 29,
     "metadata": {},
     "output_type": "execute_result"
    }
   ],
   "source": [
    "#1 = Very DISSATISFIED ; 2 = DISSATISFIED ; 3 = Somewhat DISSATISFIED ; 4 = Somewhat SATISFIED ; 5 = SATISFIED ; 6 = Very SATISFIED\n",
    "dct_sat = {1:'≥ Satisfied',2:'≥ Satisfied',3:'≥ Satisfied',\n",
    "           4:'< Satisfied',5:'< Satisfied',6:'< Satisfied'}\n",
    "\n",
    "sat = pd.concat([round(df['3_gen_satisf_wcontrol'].value_counts(normalize=True).mul(1)*24,0).astype(int),\n",
    "                round(df['3_gen_satisf_wcontrol'].value_counts(normalize=True).mul(100),0).astype(int)],\n",
    "                axis=1,keys=('N','% of final sample'))\n",
    "\n",
    "sat = sat.rename(index=dct_sat)\n",
    "sat['Category'] = sat.index\n",
    "sat=sat[['Category','N','% of final sample']]\n",
    "\n",
    "sat = sat.groupby(by='Category', as_index=False).sum()\n",
    "sat = sat.rename(index={0:'Gen. perceived ctl. satisfaction',1:'Gen. perceived ctl. satisfaction'})\n",
    "sat"
   ]
  },
  {
   "cell_type": "markdown",
   "metadata": {
    "hidden": true
   },
   "source": [
    "MAIN TABLE CREATION"
   ]
  },
  {
   "cell_type": "code",
   "execution_count": 30,
   "metadata": {
    "hidden": true
   },
   "outputs": [],
   "source": [
    "table_1 = pd.concat([gdr,off,loc,htr,fan,thm,wdw,dr,bld,comf,sat])"
   ]
  },
  {
   "cell_type": "code",
   "execution_count": 31,
   "metadata": {
    "hidden": true
   },
   "outputs": [
    {
     "data": {
      "text/html": [
       "<div>\n",
       "<style scoped>\n",
       "    .dataframe tbody tr th:only-of-type {\n",
       "        vertical-align: middle;\n",
       "    }\n",
       "\n",
       "    .dataframe tbody tr th {\n",
       "        vertical-align: top;\n",
       "    }\n",
       "\n",
       "    .dataframe thead th {\n",
       "        text-align: right;\n",
       "    }\n",
       "</style>\n",
       "<table border=\"1\" class=\"dataframe\">\n",
       "  <thead>\n",
       "    <tr style=\"text-align: right;\">\n",
       "      <th></th>\n",
       "      <th>Category</th>\n",
       "      <th>N</th>\n",
       "      <th>% of final sample</th>\n",
       "    </tr>\n",
       "  </thead>\n",
       "  <tbody>\n",
       "    <tr>\n",
       "      <th>Gender</th>\n",
       "      <td>Female</td>\n",
       "      <td>16</td>\n",
       "      <td>67</td>\n",
       "    </tr>\n",
       "    <tr>\n",
       "      <th>Gender</th>\n",
       "      <td>Male</td>\n",
       "      <td>8</td>\n",
       "      <td>33</td>\n",
       "    </tr>\n",
       "    <tr>\n",
       "      <th>Office type</th>\n",
       "      <td>Cubicle</td>\n",
       "      <td>10</td>\n",
       "      <td>42</td>\n",
       "    </tr>\n",
       "    <tr>\n",
       "      <th>Office type</th>\n",
       "      <td>Open Desk</td>\n",
       "      <td>5</td>\n",
       "      <td>21</td>\n",
       "    </tr>\n",
       "    <tr>\n",
       "      <th>Office type</th>\n",
       "      <td>Private</td>\n",
       "      <td>6</td>\n",
       "      <td>25</td>\n",
       "    </tr>\n",
       "    <tr>\n",
       "      <th>Office type</th>\n",
       "      <td>Shared private</td>\n",
       "      <td>3</td>\n",
       "      <td>12</td>\n",
       "    </tr>\n",
       "    <tr>\n",
       "      <th>Office location</th>\n",
       "      <td>Perimeter</td>\n",
       "      <td>15</td>\n",
       "      <td>63</td>\n",
       "    </tr>\n",
       "    <tr>\n",
       "      <th>Office location</th>\n",
       "      <td>Core</td>\n",
       "      <td>9</td>\n",
       "      <td>37</td>\n",
       "    </tr>\n",
       "    <tr>\n",
       "      <th>Available controls</th>\n",
       "      <td>used</td>\n",
       "      <td>4</td>\n",
       "      <td>17</td>\n",
       "    </tr>\n",
       "    <tr>\n",
       "      <th>Available controls</th>\n",
       "      <td>Heater</td>\n",
       "      <td>5</td>\n",
       "      <td>22</td>\n",
       "    </tr>\n",
       "    <tr>\n",
       "      <th>Available controls</th>\n",
       "      <td>Thermostat</td>\n",
       "      <td>10</td>\n",
       "      <td>41</td>\n",
       "    </tr>\n",
       "    <tr>\n",
       "      <th>Available controls</th>\n",
       "      <td>Windows</td>\n",
       "      <td>12</td>\n",
       "      <td>50</td>\n",
       "    </tr>\n",
       "    <tr>\n",
       "      <th>Available controls</th>\n",
       "      <td>Doors</td>\n",
       "      <td>9</td>\n",
       "      <td>36</td>\n",
       "    </tr>\n",
       "    <tr>\n",
       "      <th>Available controls</th>\n",
       "      <td>Blinds</td>\n",
       "      <td>16</td>\n",
       "      <td>66</td>\n",
       "    </tr>\n",
       "    <tr>\n",
       "      <th>Gen. thermal comfort</th>\n",
       "      <td>&lt; Comfortable</td>\n",
       "      <td>21</td>\n",
       "      <td>87</td>\n",
       "    </tr>\n",
       "    <tr>\n",
       "      <th>Gen. thermal comfort</th>\n",
       "      <td>≥ Comfortable</td>\n",
       "      <td>3</td>\n",
       "      <td>12</td>\n",
       "    </tr>\n",
       "    <tr>\n",
       "      <th>Gen. perceived ctl. satisfaction</th>\n",
       "      <td>&lt; Satisfied</td>\n",
       "      <td>6</td>\n",
       "      <td>25</td>\n",
       "    </tr>\n",
       "    <tr>\n",
       "      <th>Gen. perceived ctl. satisfaction</th>\n",
       "      <td>≥ Satisfied</td>\n",
       "      <td>18</td>\n",
       "      <td>76</td>\n",
       "    </tr>\n",
       "  </tbody>\n",
       "</table>\n",
       "</div>"
      ],
      "text/plain": [
       "                                        Category   N  % of final sample\n",
       "Gender                                    Female  16                 67\n",
       "Gender                                      Male   8                 33\n",
       "Office type                              Cubicle  10                 42\n",
       "Office type                            Open Desk   5                 21\n",
       "Office type                              Private   6                 25\n",
       "Office type                       Shared private   3                 12\n",
       "Office location                        Perimeter  15                 63\n",
       "Office location                             Core   9                 37\n",
       "Available controls                          used   4                 17\n",
       "Available controls                        Heater   5                 22\n",
       "Available controls                    Thermostat  10                 41\n",
       "Available controls                       Windows  12                 50\n",
       "Available controls                         Doors   9                 36\n",
       "Available controls                        Blinds  16                 66\n",
       "Gen. thermal comfort               < Comfortable  21                 87\n",
       "Gen. thermal comfort               ≥ Comfortable   3                 12\n",
       "Gen. perceived ctl. satisfaction     < Satisfied   6                 25\n",
       "Gen. perceived ctl. satisfaction     ≥ Satisfied  18                 76"
      ]
     },
     "execution_count": 31,
     "metadata": {},
     "output_type": "execute_result"
    }
   ],
   "source": [
    "table_1"
   ]
  },
  {
   "cell_type": "markdown",
   "metadata": {
    "heading_collapsed": true
   },
   "source": [
    "# Fig. Preferres temperature sensations"
   ]
  },
  {
   "cell_type": "code",
   "execution_count": 54,
   "metadata": {
    "hidden": true
   },
   "outputs": [],
   "source": [
    "#Preferred Temperature Sensation"
   ]
  },
  {
   "cell_type": "code",
   "execution_count": 55,
   "metadata": {
    "hidden": true
   },
   "outputs": [
    {
     "name": "stdout",
     "output_type": "stream",
     "text": [
      " 0.0    52.650177\n",
      "-1.0    26.325088\n",
      " 1.0    16.784452\n",
      " 2.0     4.063604\n",
      "-2.0     0.176678\n",
      "Name: 2_therm_pref, dtype: float64\n",
      " 0.0    48.498198\n",
      "-1.0    20.664798\n",
      " 1.0    17.981578\n",
      "-2.0     5.486584\n",
      " 2.0     5.366440\n",
      "-3.0     1.041249\n",
      "-2.5     0.720865\n",
      " 3.0     0.160192\n",
      " 2.5     0.080096\n",
      "Name: 3_th_sen, dtype: float64\n"
     ]
    }
   ],
   "source": [
    "print(df['2_therm_pref'].value_counts(normalize=True).mul(100))\n",
    "print(df['3_th_sen'].value_counts(normalize=True).mul(100))"
   ]
  },
  {
   "cell_type": "raw",
   "metadata": {
    "hidden": true
   },
   "source": [
    "pts = pd.concat([round(df['3_th_sen'].value_counts(normalize=True).mul(1)*24,0).astype(int),\n",
    "                round(df['3_th_sen'].value_counts(normalize=True).mul(100),0).astype(int)],\n",
    "                axis=1,keys=('N','% of final sample'))\n",
    "pts"
   ]
  },
  {
   "cell_type": "code",
   "execution_count": 53,
   "metadata": {
    "hidden": true
   },
   "outputs": [],
   "source": [
    "#ASHRAE 7 point scale\n",
    "dct_ashrae = {6.0:'Very Warm',\n",
    "              5.5:'Moderate/Very Warm',\n",
    "              5.0:'Moderate Warm',\n",
    "              4.5:'Moderate/Slightly Warm',\n",
    "              4.0:'Slightly Warm',\n",
    "              3.5:'Neutral',\n",
    "              3.0:'Slightly Cool',\n",
    "              2.0:'Moderate/Slightly Cool'}"
   ]
  },
  {
   "cell_type": "code",
   "execution_count": 59,
   "metadata": {
    "hidden": true
   },
   "outputs": [
    {
     "data": {
      "text/html": [
       "<div>\n",
       "<style scoped>\n",
       "    .dataframe tbody tr th:only-of-type {\n",
       "        vertical-align: middle;\n",
       "    }\n",
       "\n",
       "    .dataframe tbody tr th {\n",
       "        vertical-align: top;\n",
       "    }\n",
       "\n",
       "    .dataframe thead th {\n",
       "        text-align: right;\n",
       "    }\n",
       "</style>\n",
       "<table border=\"1\" class=\"dataframe\">\n",
       "  <thead>\n",
       "    <tr style=\"text-align: right;\">\n",
       "      <th></th>\n",
       "      <th>Category</th>\n",
       "      <th>N</th>\n",
       "      <th>% of final sample</th>\n",
       "    </tr>\n",
       "  </thead>\n",
       "  <tbody>\n",
       "    <tr>\n",
       "      <th>0</th>\n",
       "      <td>Moderate Warm</td>\n",
       "      <td>3</td>\n",
       "      <td>12</td>\n",
       "    </tr>\n",
       "    <tr>\n",
       "      <th>1</th>\n",
       "      <td>Moderate/Slightly Cool</td>\n",
       "      <td>1</td>\n",
       "      <td>4</td>\n",
       "    </tr>\n",
       "    <tr>\n",
       "      <th>2</th>\n",
       "      <td>Moderate/Slightly Warm</td>\n",
       "      <td>5</td>\n",
       "      <td>20</td>\n",
       "    </tr>\n",
       "    <tr>\n",
       "      <th>3</th>\n",
       "      <td>Moderate/Very Warm</td>\n",
       "      <td>3</td>\n",
       "      <td>13</td>\n",
       "    </tr>\n",
       "    <tr>\n",
       "      <th>4</th>\n",
       "      <td>Neutral</td>\n",
       "      <td>2</td>\n",
       "      <td>9</td>\n",
       "    </tr>\n",
       "    <tr>\n",
       "      <th>5</th>\n",
       "      <td>Slightly Cool</td>\n",
       "      <td>4</td>\n",
       "      <td>17</td>\n",
       "    </tr>\n",
       "    <tr>\n",
       "      <th>6</th>\n",
       "      <td>Slightly Warm</td>\n",
       "      <td>5</td>\n",
       "      <td>20</td>\n",
       "    </tr>\n",
       "    <tr>\n",
       "      <th>7</th>\n",
       "      <td>Very Warm</td>\n",
       "      <td>1</td>\n",
       "      <td>4</td>\n",
       "    </tr>\n",
       "  </tbody>\n",
       "</table>\n",
       "</div>"
      ],
      "text/plain": [
       "                 Category  N  % of final sample\n",
       "0           Moderate Warm  3                 12\n",
       "1  Moderate/Slightly Cool  1                  4\n",
       "2  Moderate/Slightly Warm  5                 20\n",
       "3      Moderate/Very Warm  3                 13\n",
       "4                 Neutral  2                  9\n",
       "5           Slightly Cool  4                 17\n",
       "6           Slightly Warm  5                 20\n",
       "7               Very Warm  1                  4"
      ]
     },
     "execution_count": 59,
     "metadata": {},
     "output_type": "execute_result"
    }
   ],
   "source": [
    "th_sum = pd.concat([round(df['2_med_acc_sen_sum'].value_counts(normalize=True).mul(1)*24,0).astype(int),\n",
    "                round(df['2_med_acc_sen_sum'].value_counts(normalize=True).mul(100),0).astype(int)],\n",
    "                axis=1,keys=('N','% of final sample'))\n",
    "\n",
    "\n",
    "th_sum = th_sum.rename(index=dct_ashrae)\n",
    "th_sum['Category'] = th_sum.index\n",
    "th_sum=th_sum[['Category','N','% of final sample']]\n",
    "\n",
    "th_sum = th_sum.groupby(by='Category', as_index=False).sum()\n",
    "th_sum"
   ]
  },
  {
   "cell_type": "code",
   "execution_count": 41,
   "metadata": {
    "hidden": true
   },
   "outputs": [
    {
     "data": {
      "text/html": [
       "<div>\n",
       "<style scoped>\n",
       "    .dataframe tbody tr th:only-of-type {\n",
       "        vertical-align: middle;\n",
       "    }\n",
       "\n",
       "    .dataframe tbody tr th {\n",
       "        vertical-align: top;\n",
       "    }\n",
       "\n",
       "    .dataframe thead th {\n",
       "        text-align: right;\n",
       "    }\n",
       "</style>\n",
       "<table border=\"1\" class=\"dataframe\">\n",
       "  <thead>\n",
       "    <tr style=\"text-align: right;\">\n",
       "      <th></th>\n",
       "      <th>N</th>\n",
       "      <th>% of final sample</th>\n",
       "    </tr>\n",
       "  </thead>\n",
       "  <tbody>\n",
       "    <tr>\n",
       "      <th>4.0</th>\n",
       "      <td>5</td>\n",
       "      <td>20</td>\n",
       "    </tr>\n",
       "    <tr>\n",
       "      <th>4.5</th>\n",
       "      <td>5</td>\n",
       "      <td>20</td>\n",
       "    </tr>\n",
       "    <tr>\n",
       "      <th>3.0</th>\n",
       "      <td>4</td>\n",
       "      <td>17</td>\n",
       "    </tr>\n",
       "    <tr>\n",
       "      <th>5.5</th>\n",
       "      <td>3</td>\n",
       "      <td>13</td>\n",
       "    </tr>\n",
       "    <tr>\n",
       "      <th>5.0</th>\n",
       "      <td>3</td>\n",
       "      <td>12</td>\n",
       "    </tr>\n",
       "    <tr>\n",
       "      <th>3.5</th>\n",
       "      <td>2</td>\n",
       "      <td>9</td>\n",
       "    </tr>\n",
       "    <tr>\n",
       "      <th>2.0</th>\n",
       "      <td>1</td>\n",
       "      <td>4</td>\n",
       "    </tr>\n",
       "    <tr>\n",
       "      <th>6.0</th>\n",
       "      <td>1</td>\n",
       "      <td>4</td>\n",
       "    </tr>\n",
       "  </tbody>\n",
       "</table>\n",
       "</div>"
      ],
      "text/plain": [
       "     N  % of final sample\n",
       "4.0  5                 20\n",
       "4.5  5                 20\n",
       "3.0  4                 17\n",
       "5.5  3                 13\n",
       "5.0  3                 12\n",
       "3.5  2                  9\n",
       "2.0  1                  4\n",
       "6.0  1                  4"
      ]
     },
     "execution_count": 41,
     "metadata": {},
     "output_type": "execute_result"
    }
   ],
   "source": [
    "th_win = pd.concat([round(df['2_med_acc_sen_win'].value_counts(normalize=True).mul(1)*24,0).astype(int),\n",
    "                round(df['2_med_acc_sen_win'].value_counts(normalize=True).mul(100),0).astype(int)],\n",
    "                axis=1,keys=('N','% of final sample')) \n",
    "th_sum"
   ]
  },
  {
   "cell_type": "code",
   "execution_count": 46,
   "metadata": {
    "hidden": true
   },
   "outputs": [
    {
     "data": {
      "text/html": [
       "<div>\n",
       "<style scoped>\n",
       "    .dataframe tbody tr th:only-of-type {\n",
       "        vertical-align: middle;\n",
       "    }\n",
       "\n",
       "    .dataframe tbody tr th {\n",
       "        vertical-align: top;\n",
       "    }\n",
       "\n",
       "    .dataframe thead th {\n",
       "        text-align: right;\n",
       "    }\n",
       "</style>\n",
       "<table border=\"1\" class=\"dataframe\">\n",
       "  <thead>\n",
       "    <tr style=\"text-align: right;\">\n",
       "      <th></th>\n",
       "      <th>2_min_acc_sen</th>\n",
       "      <th>2_med_acc_sen</th>\n",
       "      <th>2_max_acc_sen</th>\n",
       "      <th>2_min_acc</th>\n",
       "      <th>2_med_acc</th>\n",
       "      <th>2_max_acc</th>\n",
       "      <th>2_therm_pref</th>\n",
       "      <th>2_min_acc_sen_sum</th>\n",
       "      <th>2_min_acc_sen_win</th>\n",
       "      <th>2_med_acc_sen_sum</th>\n",
       "      <th>2_med_acc_sen_win</th>\n",
       "      <th>2_max_acc_sen_sum</th>\n",
       "      <th>2_max_acc_sen_win</th>\n",
       "    </tr>\n",
       "  </thead>\n",
       "  <tbody>\n",
       "    <tr>\n",
       "      <th>count</th>\n",
       "      <td>840984.000000</td>\n",
       "      <td>840984.000000</td>\n",
       "      <td>840984.000000</td>\n",
       "      <td>811032.000000</td>\n",
       "      <td>811032.000000</td>\n",
       "      <td>811032.000000</td>\n",
       "      <td>566.000000</td>\n",
       "      <td>788604.000000</td>\n",
       "      <td>788604.000000</td>\n",
       "      <td>788604.000000</td>\n",
       "      <td>788604.000000</td>\n",
       "      <td>788604.000000</td>\n",
       "      <td>788604.000000</td>\n",
       "    </tr>\n",
       "    <tr>\n",
       "      <th>mean</th>\n",
       "      <td>-0.911961</td>\n",
       "      <td>-0.045067</td>\n",
       "      <td>-0.042366</td>\n",
       "      <td>-0.916151</td>\n",
       "      <td>0.001052</td>\n",
       "      <td>0.920504</td>\n",
       "      <td>-0.017668</td>\n",
       "      <td>-1.656118</td>\n",
       "      <td>-0.851079</td>\n",
       "      <td>4.191059</td>\n",
       "      <td>5.102996</td>\n",
       "      <td>0.210227</td>\n",
       "      <td>1.163618</td>\n",
       "    </tr>\n",
       "    <tr>\n",
       "      <th>std</th>\n",
       "      <td>0.883369</td>\n",
       "      <td>0.678595</td>\n",
       "      <td>0.680957</td>\n",
       "      <td>0.852239</td>\n",
       "      <td>0.645320</td>\n",
       "      <td>0.779638</td>\n",
       "      <td>0.775537</td>\n",
       "      <td>0.850421</td>\n",
       "      <td>1.399256</td>\n",
       "      <td>0.978627</td>\n",
       "      <td>1.160735</td>\n",
       "      <td>1.379853</td>\n",
       "      <td>1.197090</td>\n",
       "    </tr>\n",
       "    <tr>\n",
       "      <th>min</th>\n",
       "      <td>-3.000000</td>\n",
       "      <td>-2.500000</td>\n",
       "      <td>-2.500000</td>\n",
       "      <td>-3.000000</td>\n",
       "      <td>-2.000000</td>\n",
       "      <td>-2.000000</td>\n",
       "      <td>-2.000000</td>\n",
       "      <td>-3.000000</td>\n",
       "      <td>-3.000000</td>\n",
       "      <td>2.000000</td>\n",
       "      <td>2.000000</td>\n",
       "      <td>-2.500000</td>\n",
       "      <td>-2.500000</td>\n",
       "    </tr>\n",
       "    <tr>\n",
       "      <th>25%</th>\n",
       "      <td>-2.000000</td>\n",
       "      <td>-0.500000</td>\n",
       "      <td>-0.500000</td>\n",
       "      <td>-1.000000</td>\n",
       "      <td>-0.500000</td>\n",
       "      <td>1.000000</td>\n",
       "      <td>-1.000000</td>\n",
       "      <td>-2.500000</td>\n",
       "      <td>-2.000000</td>\n",
       "      <td>3.500000</td>\n",
       "      <td>4.500000</td>\n",
       "      <td>-1.000000</td>\n",
       "      <td>1.000000</td>\n",
       "    </tr>\n",
       "    <tr>\n",
       "      <th>50%</th>\n",
       "      <td>-1.000000</td>\n",
       "      <td>0.000000</td>\n",
       "      <td>0.000000</td>\n",
       "      <td>-1.000000</td>\n",
       "      <td>0.000000</td>\n",
       "      <td>1.000000</td>\n",
       "      <td>0.000000</td>\n",
       "      <td>-2.000000</td>\n",
       "      <td>-1.000000</td>\n",
       "      <td>4.000000</td>\n",
       "      <td>5.000000</td>\n",
       "      <td>0.000000</td>\n",
       "      <td>2.000000</td>\n",
       "    </tr>\n",
       "    <tr>\n",
       "      <th>75%</th>\n",
       "      <td>0.000000</td>\n",
       "      <td>0.500000</td>\n",
       "      <td>0.500000</td>\n",
       "      <td>0.000000</td>\n",
       "      <td>0.500000</td>\n",
       "      <td>1.000000</td>\n",
       "      <td>0.000000</td>\n",
       "      <td>-1.000000</td>\n",
       "      <td>0.000000</td>\n",
       "      <td>5.000000</td>\n",
       "      <td>5.500000</td>\n",
       "      <td>1.000000</td>\n",
       "      <td>2.000000</td>\n",
       "    </tr>\n",
       "    <tr>\n",
       "      <th>max</th>\n",
       "      <td>2.000000</td>\n",
       "      <td>2.500000</td>\n",
       "      <td>3.000000</td>\n",
       "      <td>2.000000</td>\n",
       "      <td>2.000000</td>\n",
       "      <td>2.500000</td>\n",
       "      <td>2.000000</td>\n",
       "      <td>1.000000</td>\n",
       "      <td>2.000000</td>\n",
       "      <td>6.000000</td>\n",
       "      <td>7.500000</td>\n",
       "      <td>2.000000</td>\n",
       "      <td>2.500000</td>\n",
       "    </tr>\n",
       "  </tbody>\n",
       "</table>\n",
       "</div>"
      ],
      "text/plain": [
       "       2_min_acc_sen  2_med_acc_sen  2_max_acc_sen      2_min_acc  \\\n",
       "count  840984.000000  840984.000000  840984.000000  811032.000000   \n",
       "mean       -0.911961      -0.045067      -0.042366      -0.916151   \n",
       "std         0.883369       0.678595       0.680957       0.852239   \n",
       "min        -3.000000      -2.500000      -2.500000      -3.000000   \n",
       "25%        -2.000000      -0.500000      -0.500000      -1.000000   \n",
       "50%        -1.000000       0.000000       0.000000      -1.000000   \n",
       "75%         0.000000       0.500000       0.500000       0.000000   \n",
       "max         2.000000       2.500000       3.000000       2.000000   \n",
       "\n",
       "           2_med_acc      2_max_acc  2_therm_pref  2_min_acc_sen_sum  \\\n",
       "count  811032.000000  811032.000000    566.000000      788604.000000   \n",
       "mean        0.001052       0.920504     -0.017668          -1.656118   \n",
       "std         0.645320       0.779638      0.775537           0.850421   \n",
       "min        -2.000000      -2.000000     -2.000000          -3.000000   \n",
       "25%        -0.500000       1.000000     -1.000000          -2.500000   \n",
       "50%         0.000000       1.000000      0.000000          -2.000000   \n",
       "75%         0.500000       1.000000      0.000000          -1.000000   \n",
       "max         2.000000       2.500000      2.000000           1.000000   \n",
       "\n",
       "       2_min_acc_sen_win  2_med_acc_sen_sum  2_med_acc_sen_win  \\\n",
       "count      788604.000000      788604.000000      788604.000000   \n",
       "mean           -0.851079           4.191059           5.102996   \n",
       "std             1.399256           0.978627           1.160735   \n",
       "min            -3.000000           2.000000           2.000000   \n",
       "25%            -2.000000           3.500000           4.500000   \n",
       "50%            -1.000000           4.000000           5.000000   \n",
       "75%             0.000000           5.000000           5.500000   \n",
       "max             2.000000           6.000000           7.500000   \n",
       "\n",
       "       2_max_acc_sen_sum  2_max_acc_sen_win  \n",
       "count      788604.000000      788604.000000  \n",
       "mean            0.210227           1.163618  \n",
       "std             1.379853           1.197090  \n",
       "min            -2.500000          -2.500000  \n",
       "25%            -1.000000           1.000000  \n",
       "50%             0.000000           2.000000  \n",
       "75%             1.000000           2.000000  \n",
       "max             2.000000           2.500000  "
      ]
     },
     "execution_count": 46,
     "metadata": {},
     "output_type": "execute_result"
    }
   ],
   "source": [
    "df[['2_min_acc_sen',\n",
    "'2_med_acc_sen',\n",
    "'2_max_acc_sen',\n",
    "'2_min_acc',\n",
    "'2_med_acc',\n",
    "'2_max_acc',\n",
    "'2_therm_pref',\n",
    "'2_min_acc_sen_sum',\n",
    "'2_min_acc_sen_win',\n",
    "'2_med_acc_sen_sum',\n",
    "'2_med_acc_sen_win',\n",
    "'2_max_acc_sen_sum',\n",
    "'2_max_acc_sen_win']].describe()"
   ]
  },
  {
   "cell_type": "code",
   "execution_count": 49,
   "metadata": {
    "hidden": true
   },
   "outputs": [
    {
     "data": {
      "text/plain": [
       "0         6.0\n",
       "1         6.0\n",
       "2         6.0\n",
       "3         6.0\n",
       "4         6.0\n",
       "         ... \n",
       "840979    NaN\n",
       "840980    NaN\n",
       "840981    NaN\n",
       "840982    NaN\n",
       "840983    NaN\n",
       "Name: 2_med_acc_sen_win, Length: 840984, dtype: float64"
      ]
     },
     "execution_count": 49,
     "metadata": {},
     "output_type": "execute_result"
    }
   ],
   "source": [
    "df['2_med_acc_sen_win']"
   ]
  },
  {
   "cell_type": "code",
   "execution_count": 52,
   "metadata": {
    "hidden": true
   },
   "outputs": [
    {
     "data": {
      "image/png": "[encoded data removed]",
      "text/plain": [
       "<Figure size 432x288 with 2 Axes>"
      ]
     },
     "metadata": {},
     "output_type": "display_data"
    }
   ],
   "source": [
    "y = range(20)\n",
    "x1 = range(20)\n",
    "x2 = range(0, 200, 10)\n",
    "\n",
    "fig, axes = plt.subplots(ncols=2, sharey=True)\n",
    "axes[0].barh(y, x1, align='center', color='gray')\n",
    "axes[1].barh(y, x2, align='center', color='gray')\n",
    "axes[0].invert_xaxis()\n",
    "plt.show()"
   ]
  },
  {
   "cell_type": "code",
   "execution_count": null,
   "metadata": {
    "hidden": true
   },
   "outputs": [],
   "source": [
    "\"\"\"['Very Warm',\n",
    "      'Moderate/Very Warm',\n",
    "      'Moderate Warm',\n",
    "      'Moderate/Slightly Warm',\n",
    "      'Slightly Warm',\n",
    "      'Neutral',\n",
    "      'Slightly Cool',\n",
    "      'Moderate/Slightly Cool']\"\"\"\n",
    "\n",
    "x_sum = df['2_med_acc_sen_sum']\n",
    "x_win = df['2_med_acc_sen_win']"
   ]
  },
  {
   "cell_type": "code",
   "execution_count": 51,
   "metadata": {
    "hidden": true
   },
   "outputs": [
    {
     "ename": "TypeError",
     "evalue": "barh() missing 1 required positional argument: 'width'",
     "output_type": "error",
     "traceback": [
      "\u001b[1;31m---------------------------------------------------------------------------\u001b[0m",
      "\u001b[1;31mTypeError\u001b[0m                                 Traceback (most recent call last)",
      "\u001b[1;32m<ipython-input-51-c7d2d470d70a>\u001b[0m in \u001b[0;36m<module>\u001b[1;34m\u001b[0m\n\u001b[0;32m      3\u001b[0m \u001b[1;33m\u001b[0m\u001b[0m\n\u001b[0;32m      4\u001b[0m \u001b[0mfig\u001b[0m\u001b[1;33m,\u001b[0m \u001b[0maxes\u001b[0m \u001b[1;33m=\u001b[0m \u001b[0mplt\u001b[0m\u001b[1;33m.\u001b[0m\u001b[0msubplots\u001b[0m\u001b[1;33m(\u001b[0m\u001b[0mncols\u001b[0m\u001b[1;33m=\u001b[0m\u001b[1;36m2\u001b[0m\u001b[1;33m,\u001b[0m \u001b[0msharey\u001b[0m\u001b[1;33m=\u001b[0m\u001b[1;32mTrue\u001b[0m\u001b[1;33m)\u001b[0m\u001b[1;33m\u001b[0m\u001b[1;33m\u001b[0m\u001b[0m\n\u001b[1;32m----> 5\u001b[1;33m \u001b[0maxes\u001b[0m\u001b[1;33m[\u001b[0m\u001b[1;36m0\u001b[0m\u001b[1;33m]\u001b[0m\u001b[1;33m.\u001b[0m\u001b[0mbarh\u001b[0m\u001b[1;33m(\u001b[0m\u001b[0mx_sum\u001b[0m\u001b[1;33m,\u001b[0m \u001b[0malign\u001b[0m\u001b[1;33m=\u001b[0m\u001b[1;34m'center'\u001b[0m\u001b[1;33m,\u001b[0m \u001b[0mcolor\u001b[0m\u001b[1;33m=\u001b[0m\u001b[1;34m'gray'\u001b[0m\u001b[1;33m)\u001b[0m\u001b[1;33m\u001b[0m\u001b[1;33m\u001b[0m\u001b[0m\n\u001b[0m\u001b[0;32m      6\u001b[0m \u001b[0maxes\u001b[0m\u001b[1;33m[\u001b[0m\u001b[1;36m1\u001b[0m\u001b[1;33m]\u001b[0m\u001b[1;33m.\u001b[0m\u001b[0mbarh\u001b[0m\u001b[1;33m(\u001b[0m\u001b[0mx_win\u001b[0m\u001b[1;33m,\u001b[0m \u001b[0malign\u001b[0m\u001b[1;33m=\u001b[0m\u001b[1;34m'center'\u001b[0m\u001b[1;33m,\u001b[0m \u001b[0mcolor\u001b[0m\u001b[1;33m=\u001b[0m\u001b[1;34m'gray'\u001b[0m\u001b[1;33m)\u001b[0m\u001b[1;33m\u001b[0m\u001b[1;33m\u001b[0m\u001b[0m\n\u001b[0;32m      7\u001b[0m \u001b[0maxes\u001b[0m\u001b[1;33m[\u001b[0m\u001b[1;36m0\u001b[0m\u001b[1;33m]\u001b[0m\u001b[1;33m.\u001b[0m\u001b[0minvert_xaxis\u001b[0m\u001b[1;33m(\u001b[0m\u001b[1;33m)\u001b[0m\u001b[1;33m\u001b[0m\u001b[1;33m\u001b[0m\u001b[0m\n",
      "\u001b[1;31mTypeError\u001b[0m: barh() missing 1 required positional argument: 'width'"
     ]
    },
    {
     "data": {
      "image/png": "[encoded data removed]",
      "text/plain": [
       "<Figure size 432x288 with 2 Axes>"
      ]
     },
     "metadata": {},
     "output_type": "display_data"
    }
   ],
   "source": [
    "fig, axes = plt.subplots(ncols=2, sharey=True)\n",
    "axes[0].barh(x_sum, align='center', color='gray')\n",
    "axes[1].barh(x_win, align='center', color='gray')\n",
    "axes[0].invert_xaxis()\n",
    "plt.show()"
   ]
  },
  {
   "cell_type": "code",
   "execution_count": null,
   "metadata": {
    "hidden": true
   },
   "outputs": [],
   "source": []
  }
 ],
 "metadata": {
  "kernelspec": {
   "display_name": "Python 3",
   "language": "python",
   "name": "python3"
  },
  "language_info": {
   "codemirror_mode": {
    "name": "ipython",
    "version": 3
   },
   "file_extension": ".py",
   "mimetype": "text/x-python",
   "name": "python",
   "nbconvert_exporter": "python",
   "pygments_lexer": "ipython3",
   "version": "3.8.3"
  },
  "toc": {
   "base_numbering": 1,
   "nav_menu": {},
   "number_sections": true,
   "sideBar": false,
   "skip_h1_title": false,
   "title_cell": "Table of Contents",
   "title_sidebar": "Contents",
   "toc_cell": true,
   "toc_position": {},
   "toc_section_display": true,
   "toc_window_display": false
  }
 },
 "nbformat": 4,
 "nbformat_minor": 4
}
